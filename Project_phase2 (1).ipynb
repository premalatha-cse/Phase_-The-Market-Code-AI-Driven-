{
  "cells": [
    {
      "cell_type": "markdown",
      "metadata": {
        "id": "Sw8cpETYLmRc"
      },
      "source": [
        " Upload the Dataset"
      ]
    },
    {
      "cell_type": "code",
      "execution_count": null,
      "metadata": {
        "colab": {
          "base_uri": "https://localhost:8080/",
          "height": 73
        },
        "id": "RHNzm74fLvox",
        "outputId": "4bcc3ae8-7710-4b35-cd3b-24c7c922ea39"
      },
      "outputs": [
        {
          "data": {
            "text/html": [
              "\n",
              "     <input type=\"file\" id=\"files-a87b4cf8-48a0-49ad-aa2f-0198e5d87077\" name=\"files[]\" multiple disabled\n",
              "        style=\"border:none\" />\n",
              "     <output id=\"result-a87b4cf8-48a0-49ad-aa2f-0198e5d87077\">\n",
              "      Upload widget is only available when the cell has been executed in the\n",
              "      current browser session. Please rerun this cell to enable.\n",
              "      </output>\n",
              "      <script>// Copyright 2017 Google LLC\n",
              "//\n",
              "// Licensed under the Apache License, Version 2.0 (the \"License\");\n",
              "// you may not use this file except in compliance with the License.\n",
              "// You may obtain a copy of the License at\n",
              "//\n",
              "//      http://www.apache.org/licenses/LICENSE-2.0\n",
              "//\n",
              "// Unless required by applicable law or agreed to in writing, software\n",
              "// distributed under the License is distributed on an \"AS IS\" BASIS,\n",
              "// WITHOUT WARRANTIES OR CONDITIONS OF ANY KIND, either express or implied.\n",
              "// See the License for the specific language governing permissions and\n",
              "// limitations under the License.\n",
              "\n",
              "/**\n",
              " * @fileoverview Helpers for google.colab Python module.\n",
              " */\n",
              "(function(scope) {\n",
              "function span(text, styleAttributes = {}) {\n",
              "  const element = document.createElement('span');\n",
              "  element.textContent = text;\n",
              "  for (const key of Object.keys(styleAttributes)) {\n",
              "    element.style[key] = styleAttributes[key];\n",
              "  }\n",
              "  return element;\n",
              "}\n",
              "\n",
              "// Max number of bytes which will be uploaded at a time.\n",
              "const MAX_PAYLOAD_SIZE = 100 * 1024;\n",
              "\n",
              "function _uploadFiles(inputId, outputId) {\n",
              "  const steps = uploadFilesStep(inputId, outputId);\n",
              "  const outputElement = document.getElementById(outputId);\n",
              "  // Cache steps on the outputElement to make it available for the next call\n",
              "  // to uploadFilesContinue from Python.\n",
              "  outputElement.steps = steps;\n",
              "\n",
              "  return _uploadFilesContinue(outputId);\n",
              "}\n",
              "\n",
              "// This is roughly an async generator (not supported in the browser yet),\n",
              "// where there are multiple asynchronous steps and the Python side is going\n",
              "// to poll for completion of each step.\n",
              "// This uses a Promise to block the python side on completion of each step,\n",
              "// then passes the result of the previous step as the input to the next step.\n",
              "function _uploadFilesContinue(outputId) {\n",
              "  const outputElement = document.getElementById(outputId);\n",
              "  const steps = outputElement.steps;\n",
              "\n",
              "  const next = steps.next(outputElement.lastPromiseValue);\n",
              "  return Promise.resolve(next.value.promise).then((value) => {\n",
              "    // Cache the last promise value to make it available to the next\n",
              "    // step of the generator.\n",
              "    outputElement.lastPromiseValue = value;\n",
              "    return next.value.response;\n",
              "  });\n",
              "}\n",
              "\n",
              "/**\n",
              " * Generator function which is called between each async step of the upload\n",
              " * process.\n",
              " * @param {string} inputId Element ID of the input file picker element.\n",
              " * @param {string} outputId Element ID of the output display.\n",
              " * @return {!Iterable<!Object>} Iterable of next steps.\n",
              " */\n",
              "function* uploadFilesStep(inputId, outputId) {\n",
              "  const inputElement = document.getElementById(inputId);\n",
              "  inputElement.disabled = false;\n",
              "\n",
              "  const outputElement = document.getElementById(outputId);\n",
              "  outputElement.innerHTML = '';\n",
              "\n",
              "  const pickedPromise = new Promise((resolve) => {\n",
              "    inputElement.addEventListener('change', (e) => {\n",
              "      resolve(e.target.files);\n",
              "    });\n",
              "  });\n",
              "\n",
              "  const cancel = document.createElement('button');\n",
              "  inputElement.parentElement.appendChild(cancel);\n",
              "  cancel.textContent = 'Cancel upload';\n",
              "  const cancelPromise = new Promise((resolve) => {\n",
              "    cancel.onclick = () => {\n",
              "      resolve(null);\n",
              "    };\n",
              "  });\n",
              "\n",
              "  // Wait for the user to pick the files.\n",
              "  const files = yield {\n",
              "    promise: Promise.race([pickedPromise, cancelPromise]),\n",
              "    response: {\n",
              "      action: 'starting',\n",
              "    }\n",
              "  };\n",
              "\n",
              "  cancel.remove();\n",
              "\n",
              "  // Disable the input element since further picks are not allowed.\n",
              "  inputElement.disabled = true;\n",
              "\n",
              "  if (!files) {\n",
              "    return {\n",
              "      response: {\n",
              "        action: 'complete',\n",
              "      }\n",
              "    };\n",
              "  }\n",
              "\n",
              "  for (const file of files) {\n",
              "    const li = document.createElement('li');\n",
              "    li.append(span(file.name, {fontWeight: 'bold'}));\n",
              "    li.append(span(\n",
              "        `(${file.type || 'n/a'}) - ${file.size} bytes, ` +\n",
              "        `last modified: ${\n",
              "            file.lastModifiedDate ? file.lastModifiedDate.toLocaleDateString() :\n",
              "                                    'n/a'} - `));\n",
              "    const percent = span('0% done');\n",
              "    li.appendChild(percent);\n",
              "\n",
              "    outputElement.appendChild(li);\n",
              "\n",
              "    const fileDataPromise = new Promise((resolve) => {\n",
              "      const reader = new FileReader();\n",
              "      reader.onload = (e) => {\n",
              "        resolve(e.target.result);\n",
              "      };\n",
              "      reader.readAsArrayBuffer(file);\n",
              "    });\n",
              "    // Wait for the data to be ready.\n",
              "    let fileData = yield {\n",
              "      promise: fileDataPromise,\n",
              "      response: {\n",
              "        action: 'continue',\n",
              "      }\n",
              "    };\n",
              "\n",
              "    // Use a chunked sending to avoid message size limits. See b/62115660.\n",
              "    let position = 0;\n",
              "    do {\n",
              "      const length = Math.min(fileData.byteLength - position, MAX_PAYLOAD_SIZE);\n",
              "      const chunk = new Uint8Array(fileData, position, length);\n",
              "      position += length;\n",
              "\n",
              "      const base64 = btoa(String.fromCharCode.apply(null, chunk));\n",
              "      yield {\n",
              "        response: {\n",
              "          action: 'append',\n",
              "          file: file.name,\n",
              "          data: base64,\n",
              "        },\n",
              "      };\n",
              "\n",
              "      let percentDone = fileData.byteLength === 0 ?\n",
              "          100 :\n",
              "          Math.round((position / fileData.byteLength) * 100);\n",
              "      percent.textContent = `${percentDone}% done`;\n",
              "\n",
              "    } while (position < fileData.byteLength);\n",
              "  }\n",
              "\n",
              "  // All done.\n",
              "  yield {\n",
              "    response: {\n",
              "      action: 'complete',\n",
              "    }\n",
              "  };\n",
              "}\n",
              "\n",
              "scope.google = scope.google || {};\n",
              "scope.google.colab = scope.google.colab || {};\n",
              "scope.google.colab._files = {\n",
              "  _uploadFiles,\n",
              "  _uploadFilesContinue,\n",
              "};\n",
              "})(self);\n",
              "</script> "
            ],
            "text/plain": [
              "<IPython.core.display.HTML object>"
            ]
          },
          "metadata": {},
          "output_type": "display_data"
        },
        {
          "name": "stdout",
          "output_type": "stream",
          "text": [
            "Saving the-project-of-west-ice-storage-2.ipynb to the-project-of-west-ice-storage-2.ipynb\n"
          ]
        }
      ],
      "source": [
        "from google.colab import files\n",
        "uploaded = files.upload()\n"
      ]
    },
    {
      "cell_type": "markdown",
      "metadata": {
        "id": "IsWJ4uQMMkVn"
      },
      "source": [
        "Load the Dataset"
      ]
    },
    {
      "cell_type": "code",
      "execution_count": null,
      "metadata": {
        "id": "Lp5bzqm5Mosh"
      },
      "outputs": [],
      "source": [
        "import pandas as pd\n",
        "# Read the dataset\n",
        "df = pd.read_csv('the-project-of-west-ice-storage-2.ipynb', sep=';')"
      ]
    },
    {
      "cell_type": "markdown",
      "metadata": {
        "id": "mQOl0CWvM6qI"
      },
      "source": [
        "Data Exploration\n"
      ]
    },
    {
      "cell_type": "code",
      "execution_count": null,
      "metadata": {
        "colab": {
          "base_uri": "https://localhost:8080/",
          "height": 1000
        },
        "id": "-jQwvHodM_Zr",
        "outputId": "429d07ee-d00d-4656-bd3e-1da5245918af"
      },
      "outputs": [
        {
          "data": {
            "application/vnd.google.colaboratory.intrinsic+json": {
              "repr_error": "Out of range float values are not JSON compliant: nan",
              "type": "dataframe",
              "variable_name": "df"
            },
            "text/html": [
              "\n",
              "  <div id=\"df-6650ceb1-4f02-4eca-94be-b0c38fc2799d\" class=\"colab-df-container\">\n",
              "    <div>\n",
              "<style scoped>\n",
              "    .dataframe tbody tr th:only-of-type {\n",
              "        vertical-align: middle;\n",
              "    }\n",
              "\n",
              "    .dataframe tbody tr th {\n",
              "        vertical-align: top;\n",
              "    }\n",
              "\n",
              "    .dataframe thead th {\n",
              "        text-align: right;\n",
              "    }\n",
              "</style>\n",
              "<table border=\"1\" class=\"dataframe\">\n",
              "  <thead>\n",
              "    <tr style=\"text-align: right;\">\n",
              "      <th></th>\n",
              "      <th>{\"metadata\":{\"kernelspec\":{\"language\":\"python\",\"display_name\":\"Python 3\",\"name\":\"python3\"},\"language_info\":{\"name\":\"python\",\"version\":\"3.10.12\",\"mimetype\":\"text/x-python\",\"codemirror_mode\":{\"name\":\"ipython\",\"version\":3},\"pygments_lexer\":\"ipython3\",\"nbconvert_exporter\":\"python\",\"file_extension\":\".py\"},\"kaggle\":{\"accelerator\":\"none\",\"dataSources\":[],\"dockerImageVersionId\":30918,\"isInternetEnabled\":true,\"language\":\"python\",\"sourceType\":\"notebook\",\"isGpuEnabled\":false}},\"nbformat_minor\":4,\"nbformat\":4,\"cells\":[{\"cell_type\":\"markdown\",\"source\":\"# Welcome to our project\\n\\n欢迎来到西冰库三人间的机器学习课程项目，接下来我们将会通过基于“Daily News for Stock Market Prediction”数据集的工作，来展示我们的课程学习成果。\\n\\n由于单独的大盘涨跌提示的信息过少，不太够用来投资。所以我们希望通过新闻语义理解和文本强化学习来实现**自动生成推荐/风险文本**，实现投资领域的推荐和避雷。\\n\\n接下来我们将会逐步展示我们的工作，包括我们所有的尝试。我们会详细的陈述我们遇到的困难和解决思路，同时贴出所有的源码和注释，希望能对您有所帮助。\",\"metadata\":{}},{\"cell_type\":\"markdown\",\"source\":\"# 数据集的简介\\n\\n无论采用什么方法，我们都需要先知道数据集长什么样。所以在开始之前，我们一起来回顾一下数据集的构成。在数据集里面有三个csv文件，其中“Combined_News_DJIA.csv”是已经处理好的，兼有股市涨跌作为label和日期匹配的新闻数据，所以我们采用这个文件作为数据来源。在文件里面，首列为date数据（从2008.8.8——2016.7.1），第二列为涨跌label（下跌0，上涨1），第三列到第二十五列为当日新闻\",\"metadata\":{}},{\"cell_type\":\"markdown\",\"source\":\"# 初版方案的实现\",\"metadata\":{}},{\"cell_type\":\"markdown\",\"source\":\"初版代码采用如下流程实现：\\n\\n```mermaid\\ngraph LR\\n    A[拼接后的新闻标题] --&gt; B[BERT预训练模型做实体提取]\\n    B --&gt; C{分别做风险/推荐词库匹配}\\n    C --&gt; D[匹配到的风险领域]\\n    C --&gt; E[匹配到的推荐领域]\\n    D --&gt; F[生成投资风险领域警告]\\n    E --&gt; G[生成投资推荐]\\n    H[项目流程图]\\n```\",\"metadata\":{}},{\"cell_type\":\"markdown\",\"source\":\"## 实现代码\",\"metadata\":{}},{\"cell_type\":\"code\",\"source\":\"import torch\\nimport faiss\\nimport random\\nimport re\\nimport numpy as np\\nfrom collections import defaultdict\\nfrom transformers import BertTokenizer, BertForTokenClassification\\nfrom sentence_transformers import SentenceTransformer\\nfrom functools import lru_cache\\nimport logging\\nfrom transformers import logging as transformers_logging\\n\\n# 设置transformers库的日志级别为ERROR，避免输出警告\\ntransformers_logging.set_verbosity_error()\\n\\n# 初始化核心组件\\nner_tokenizer = BertTokenizer.from_pretrained(\\\"dslim/bert-base-NER\\\")\\nner_model = BertForTokenClassification.from_pretrained(\\\"dslim/bert-base-NER\\\").eval()\\nsemantic_model = SentenceTransformer('all-MiniLM-L6-v2').eval()\\n\\ndef preprocess_text(text, max_length=512):\\n    \\\"\\\"\\\"智能分块处理\\\"\\\"\\\"\\n    sentences = re.findall(r'(?&lt;!\\\\w\\\\.\\\\w.)(?&lt;![A-Z][a-z]\\\\.)(?&lt;=\\\\.|\\\\?)\\\\s*[^.!?]+', text)\\n    chunks, current_chunk = [], []\\n    current_len = 0\\n    \\n    for sent in sentences:\\n        sent_tokens = ner_tokenizer.tokenize(sent)\\n        if current_len + len(sent_tokens) &gt; max_length - 2:\\n            chunks.append(' '.join(current_chunk))\\n            current_chunk, current_len = [], 0\\n        current_chunk.append(sent)\\n        current_len += len(sent_tokens)\\n    \\n    if current_chunk:\\n        chunks.append(' '.join(current_chunk))\\n    return chunks\\n\\ndef extract_entities(text):\\n    \\\"\\\"\\\"改进的实体提取\\\"\\\"\\\"\\n    chunks = preprocess_text(text)\\n    all_entities = []\\n    \\n    for chunk in chunks:\\n        inputs = ner_tokenizer(chunk, return_tensors=\\\"pt\\\", truncation=True)\\n        with torch.no_grad():\\n            outputs = ner_model(**inputs)\\n        \\n        predictions = torch.argmax(outputs.logits, dim=2)[0]\\n        tokens = ner_tokenizer.convert_ids_to_tokens(inputs[\\\"input_ids\\\"][0])\\n        tags = [ner_model.config.id2label[p] for p in predictions.tolist()]\\n        \\n        current_entity = []\\n        current_tag = None\\n        for token, tag in zip(tokens[1:-1], tags[1:-1]):  # 跳过[CLS]和[SEP]\\n            if tag.startswith(\\\"B-\\\"):\\n                if current_entity:\\n                    all_entities.append((' '.join(current_entity), current_tag))\\n                current_entity = [token]\\n                current_tag = tag[2:]\\n            elif tag.startswith(\\\"I-\\\") and current_tag == tag[2:]:\\n                current_entity.append(token)\\n            else:\\n                if current_entity:\\n                    all_entities.append((' '.join(current_entity), current_tag))\\n                current_entity = []\\n                current_tag = None\\n                \\n    return list(set([(ent.replace(\\\" ##\\\", \\\"\\\"), tag) for ent, tag in all_entities]))  # 清理合并的token\\n\\n# 风险关键词列表（同前）\\nrisk_terms = [\\n    # Technology Company-Specific Risks (新增分类)\\n    \\\"Huawei 5G technology sanctions\\\", \\\"Huawei supply chain decoupling\\\", \\\"Huawei HarmonyOS ecosystem fragmentation\\\",\\n    \\\"Xiaomi smartphone market volatility\\\", \\\"Xiaomi overseas data compliance issues\\\", \\\"Xiaomi IoT device security breach\\\",\\n    \\\"Alibaba cloud service outage\\\", \\\"Alibaba cross-border data flow restrictions\\\", \\\"Alibaba antitrust compliance failure\\\",\\n    \\\"Tencent gaming content regulation\\\", \\\"Tencent social media misinformation crisis\\\", \\\"Tencent fintech system vulnerability\\\",\\n    \\\"Baidu autonomous driving liability dispute\\\", \\\"Baidu AI ethics algorithm bias\\\", \\\"Baidu Apollo platform security flaw\\\",\\n    \\\"TikTok content moderation backlash\\\", \\\"TikTok global privacy litigation\\\", \\\"TikTok algorithmic transparency crisis\\\",\\n    \\\"ByteDance cross-border content censorship\\\", \\\"ByteDance AI training data privacy breach\\\", \\\"ByteDance global regulatory divergence\\\",\\n    \\\"ZTE US export restrictions renewal\\\", \\\"ZTE telecom equipment security audit failure\\\", \\\"ZTE 5G infrastructure dependency risk\\\",\\n    \\\"JD.com logistics automation failure\\\", \\\"JD.com supply chain AI prediction error\\\", \\\"JD.com counterfeit product detection crisis\\\",\\n    \\\"Meituan delivery algorithm abuse scandal\\\", \\\"Meituan local service data monopoly\\\", \\\"Meituan cross-industry competition backlash\\\",\\n    \\\"DJI drone export control escalation\\\", \\\"DJI aviation safety certification failure\\\", \\\"DJI global market localization conflict\\\",\\n    \\\"Bytedance TikTok-ByteDance corporate governance risk\\\", \\\"Huawei-Hisilicon chip design IP dispute\\\", \\\"Xiaomi-POCO brand localization backlash\\\",\\n    \\\"Chinese tech companies US listing restrictions\\\", \\\"Chinese AI companies data localization conflict\\\", \\\"Chinese cloud providers cross-border audit crisis\\\",\\n    \\\"Global semiconductor foundry dependency risk\\\", \\\"Critical technology IP litigation\\\", \\\"Cross-border technology transfer disputes\\\",\\n    \\\"AI company algorithmic transparency mandates\\\", \\\"Tech giants antitrust breakup threat\\\", \\\"Cloud infrastructure geopolitical risk\\\",\\n    \\\"Consumer electronics brand reputation crisis\\\", \\\"Tech company carbon neutrality compliance failure\\\", \\\"Open-source software license litigation\\\"\\n\\n    # 货币政策与金融市场动荡\\n    \\\"interest rate hike\\\", \\\"quantitative tightening\\\", \\\"bond yield surge\\\", \\\"sovereign debt crisis\\\",\\n    \\\"margin call\\\", \\\"credit rating downgrade\\\", \\\"repo market freeze\\\", \\\"junk bond collapse\\\",\\n    \\\"hyperinflation\\\", \\\"stagflation\\\", \\n    \\\"crypto market systemic collapse\\\", \\\"currency war escalation\\\", \\\"capital control contagion\\\", \\n    \\\"central bank digital currency (CBDC) malfunction\\\", \\\"algorithmic stablecoin depeg\\\", \\n    \\\"global interest rate policy divergence\\\", \\\"cross-border capital flow reversal\\\", \\n    \\\"shadow banking liquidity crunch\\\", \\\"sovereign wealth fund solvency crisis\\\", \\n    \\\"emerging market currency peg collapse\\\", \\\"debt-for-equity swap backlash\\\"  # 新增5项\\n\\n    # 行业性黑天鹅事件\\n    \\\"semiconductor shortage\\\", \\\"rare earth embargo\\\", \\\"pharma trial failure\\\", \\\"EV battery recall\\\",\\n    \\\"airline bankruptcy\\\", \\\"shipping container backlog\\\", \\\"real estate bubble\\\", \\\"crypto exchange collapse\\\",\\n    \\\"AI ethics scandal\\\", \\n    \\\"quantum computing security breach\\\", \\\"autonomous vehicle system failure\\\", \\\"gene editing mishap\\\", \\n    \\\"metaverse platform collapse\\\", \\\"cloud computing outage\\\", \\\"critical mineral cartel formation\\\", \\n    \\\"biometric authentication fraud\\\", \\\"nanotechnology safety crisis\\\", \\\"space debris collision cascade\\\", \\n    \\\"agricultural drone swarm malfunction\\\", \\\"synthetic biology containment breach\\\"  # 新增5项\\n\\n    # 自然灾害与气候风险\\n    \\\"extreme weather lockdown\\\", \\\"crop failure\\\", \\\"water scarcity\\\", \\\"carbon tax riot\\\",\\n    \\\"hurricane disruption\\\", \\\"wildfire insurance crisis\\\", \\\"flood supply chain\\\", \\\"El Niño commodity shock\\\",\\n    \\\"permafrost thaw acceleration\\\", \\\"coastal city submersion\\\", \\\"carbon capture failure\\\", \\n    \\\"climate litigation surge\\\", \\\"megadrought\\\", \\\"volcanic ash supply chain collapse\\\", \\n    \\\"global coral reef collapse\\\", \\\"ozone layer recovery reversal\\\", \\\"atmospheric methane spike\\\", \\n    \\\"arctic permafrost methane release\\\", \\\"hydropower reservoir sedimentation crisis\\\"  # 新增5项\\n\\n    # 公共卫生危机\\n    \\\"pandemic resurgence\\\", \\\"vaccine side effect panic\\\", \\\"antibiotic resistance\\\", \\\"hospital overload\\\",\\n    \\\"WHO emergency alert\\\", \\\"lab leak controversy\\\", \\\"zoonotic spillover\\\",\\n    \\\"unknown pathogen outbreak\\\", \\\"mental health pandemic\\\", \\\"antiviral resistance crisis\\\", \\n    \\\"medical AI misdiagnosis wave\\\", \\\"global blood shortage\\\", \\\"vaccine nationalism escalation\\\", \\n    \\\"gene therapy adverse reaction crisis\\\", \\\"organ shortage black market surge\\\", \\n    \\\"elderly care system collapse\\\", \\\"healthcare AI liability dispute\\\", \\\"pandemic vaccine inequity riot\\\"  # 新增5项\\n\\n    # 法律与监管突变\\n    \\\"antitrust breakup\\\", \\\"data privacy fine\\\", \\\"ESG compliance crash\\\", \\\"insider trading probe\\\",\\n    \\\"IPO suspension\\\", \\\"short selling ban\\\", \\\"derivative regulation\\\", \\\"cross-border audit conflict\\\",\\n    \\\"AI governance framework clash\\\", \\\"data sovereignty dispute\\\", \\\"quantum encryption regulation\\\", \\n    \\\"ESG greenwashing crackdown\\\", \\\"AI liability law ambiguity\\\", \\\"offshore tax haven collapse\\\", \\n    \\\"cross-border data localization mandate\\\", \\\"AI facial recognition ban\\\", \\n    \\\"quantum computing IP theft crackdown\\\", \\\"blockchain smart contract litigation surge\\\", \\n    \\\"offshore financial center collapse\\\"  # 新增5项\\n\\n    # 供应链与劳动力风险\\n    \\\"port strike\\\", \\\"chip fab fire\\\", \\\"battery plant protest\\\", \\\"mineral export ban\\\",\\n    \\\"trucker shortage\\\", \\\"union wage demand\\\", \\\"cross-strait logistics freeze\\\", \\\"child labor lawsuit\\\",\\n    \\\"supply chain decoupling\\\", \\\"AI labor displacement\\\", \\\"critical skill shortage\\\", \\n    \\\"3D printing material crisis\\\", \\\"agricultural labor automation backlash\\\", \\\"cross-border labor ban\\\", \\n    \\\"cross-border robotics tariff war\\\", \\\"labour force aging crisis\\\", \\n    \\\"autonomous logistics system failure\\\", \\\"critical infrastructure staffing shortage\\\", \\n    \\\"global supply chain carbon footprint audit\\\"  # 新增5项\\n\\n    # 能源与材料危机\\n    \\\"OPEC+ production cut\\\", \\\"LNG terminal explosion\\\", \\\"uranium shortage\\\", \\\"cobalt mining ban\\\",\\n    \\\"graphite embargo\\\", \\\"lithium cartel\\\", \\\"hydrogen leak panic\\\",\\n    \\\"solar panel supply chain fracture\\\", \\\"rare earth recycling crisis\\\", \\\"critical mineral embargo\\\", \\n    \\\"nuclear waste management failure\\\", \\\"biofuel feedstock shortage\\\", \\\"hydrogen infrastructure collapse\\\", \\n    \\\"geothermal energy seismic risk\\\", \\\"uranium enrichment facility sabotage\\\", \\n    \\\"critical battery material price spike\\\", \\\"solar panel silicon shortage\\\", \\n    \\\"ocean thermal energy conflict\\\"  # 新增5项\\n\\n    # 行为金融与市场情绪\\n    \\\"panic selling\\\", \\\"FOMO crash\\\", \\\"margin debt unwind\\\", \\\"whale account liquidation\\\",\\n    \\\"dark pool manipulation\\\", \\\"gamma squeeze\\\", \\\"rumor-driven selloff\\\",\\n    \\\"social media-driven volatility\\\", \\\"AI trading algorithm meltdown\\\", \\\"central bank communication crisis\\\", \\n    \\\"currency carry trade collapse\\\", \\\"ETF liquidity crunch\\\", \\\"decentralized finance (DeFi) flash crash\\\", \\n    \\\"AI-generated market manipulation\\\", \\\"blockchain oracle data fraud\\\", \\n    \\\"central bank communication credibility crisis\\\", \\\"algorithmic trading liquidity void\\\", \\n    \\\"market sentiment sentiment analysis distortion\\\"  # 新增5项\\n\\n    # 地缘博弈升级\\n    \\\"Taiwan Strait militarization\\\", \\\"South China Sea collision\\\", \\\"Arctic resource clash\\\",\\n    \\\"Mekong River dam war\\\", \\\"Kashmir border skirmish\\\", \\\"Sudan proxy war\\\", \\\"Nagorno-Karabakh escalation\\\",\\n    \\\"Arctic shipping route control\\\", \\\"space resource claim conflict\\\", \\\"5G spectrum war\\\", \\n    \\\"cyber warfare escalation\\\", \\\"critical infrastructure sabotage\\\", \\\"global satellite navigation jamming\\\", \\n    \\\"cross-border data flow war\\\", \\\"critical mineral supply chain weaponization\\\", \\\"quantum supremacy arms race\\\", \\n    \\\"polar ice cap territorial dispute\\\", \\\"deep-sea mining conflict\\\", \\n    \\\"space debris weaponization\\\", \\\"AI military system arms race\\\"  # 新增4项（保持总数平衡）\\n]\\n\\n# 行业词库（同前）\\nindustry_terms = {\\n    # 基础材料\\n    \\\"金属采矿\\\": [\\n        \\\"Iron ore mining rights\\\", \\\"Copper concentrate processing\\\", \\\"Bauxite exploration\\\",\\n        \\\"Rare earth refining\\\", \\\"Tungsten carbide production\\\"\\n    ],\\n    \\\"工业化学品\\\": [\\n        \\\"Polyethylene synthesis\\\", \\\"Chlor-alkali production units\\\", \\\"Titanium dioxide pigments\\\",\\n        \\\"Industrial solvent purification\\\", \\\"Synthetic resin polymerization\\\"\\n    ],\\n    \\\"特种化工\\\": [\\n        \\\"Carbon fiber precursors\\\", \\\"High-purity alumina\\\", \\\"Electronic-grade hydrofluoric acid\\\",\\n        \\\"Specialty ceramic coatings\\\", \\\"Industrial gas separation\\\"\\n    ],\\n    \\\"林业与纸制品\\\": [\\n        \\\"Kraft pulp production\\\", \\\"Corrugated packaging materials\\\", \\\"FSC-certified forestry\\\",\\n        \\\"Recycled paperboard manufacturing\\\", \\\"Laminated wood panels\\\"\\n    ],\\n    \\\"化肥与农业资源\\\": [\\n        \\\"Nitrogen fertilizer synthesis\\\", \\\"Phosphate rock processing\\\", \\\"Potash mining technology\\\",\\n        \\\"Soil amendment formulations\\\", \\\"Micronutrient fertilizers\\\"\\n    ],\\n    \\\"稀土与稀有金属\\\": [\\n        \\\"Neodymium-praseodymium alloy\\\", \\\"Cobalt concentrate refining\\\", \\\"Tantalum capacitor materials\\\",\\n        \\\"Rare earth permanent magnets\\\", \\\"Tungsten carbide powder\\\"\\n    ],\\n\\n    # 能源\\n    \\\"石油勘探\\\": [\\n        \\\"Shale gas fracking\\\", \\\"Offshore drilling rigs\\\", \\\"Reservoir simulation software\\\",\\n        \\\"Seismic imaging technology\\\", \\\"Oil sands extraction\\\"\\n    ],\\n    \\\"炼油与分销\\\": [\\n        \\\"Catalytic cracking units\\\", \\\"Gasoline blending optimization\\\", \\\"Pipeline corrosion monitoring\\\",\\n        \\\"Bunker fuel specifications\\\", \\\"Jet fuel additives\\\"\\n    ],\\n    \\\"油气服务\\\": [\\n        \\\"Hydraulic fracturing pumps\\\", \\\"Subsea Christmas trees\\\", \\\"Drilling mud systems\\\",\\n        \\\"Oilfield cementing services\\\", \\\"Pipeline integrity management\\\"\\n    ],\\n    \\\"液化天然气\\\": [\\n        \\\"Floating storage regasification\\\", \\\"Cryogenic tank insulation\\\", \\\"Boil-off gas recovery\\\",\\n        \\\"Small-scale LNG terminals\\\", \\\"Bunkering infrastructure\\\"\\n    ],\\n    \\\"太阳能设备\\\": [\\n        \\\"PERC solar cells\\\", \\\"Bifacial module technology\\\", \\\"Solar tracking algorithms\\\",\\n        \\\"Anti-reflective coatings\\\", \\\"PV inverter efficiency\\\"\\n    ],\\n    \\\"风能开发\\\": [\\n        \\\"Offshore wind turbine foundations\\\", \\\"Blade pitch control systems\\\", \\\"Nacelle yaw mechanisms\\\",\\n        \\\"Grid connection converters\\\", \\\"Wind resource assessment\\\"\\n    ],\\n    \\\"氢能源技术\\\": [\\n        \\\"Proton exchange membrane electrolyzers\\\", \\\"Hydrogen compression stations\\\", \\\"Fuel cell stacks\\\",\\n        \\\"Ammonia cracking reactors\\\", \\\"Hydrogen refueling protocols\\\"\\n    ],\\n    \\\"生物燃料\\\": [\\n        \\\"Algae biofuel cultivation\\\", \\\"Cellulosic ethanol fermentation\\\", \\\"Biodiesel transesterification\\\",\\n        \\\"Pyrolysis oil upgrading\\\", \\\"Anaerobic digestion plants\\\"\\n    ],\\n\\n    # 工业\\n    \\\"航空航天\\\": [\\n        \\\"Composite fuselage manufacturing\\\", \\\"Turbofan engine blades\\\", \\\"Satellite attitude control\\\",\\n        \\\"Radar-absorbing materials\\\", \\\"Aircraft maintenance MRO\\\"\\n    ],\\n    \\\"铁路设备\\\": [\\n        \\\"Bogie frame casting\\\", \\\"Pantograph current collection\\\", \\\"Axle load monitoring\\\",\\n        \\\"Container intermodal systems\\\", \\\"Railway signaling ETCS\\\"\\n    ],\\n    \\\"工业机械\\\": [\\n        \\\"CNC machining centers\\\", \\\"Industrial robot end-effectors\\\", \\\"Hydraulic press automation\\\",\\n        \\\"Laser cutting optics\\\", \\\"Additive manufacturing powders\\\"\\n    ],\\n    \\\"建筑工程\\\": [\\n        \\\"BIM coordination software\\\", \\\"Prefabricated concrete elements\\\", \\\"Geotechnical instrumentation\\\",\\n        \\\"Construction waste recycling\\\", \\\"Smart building IoT\\\"\\n    ],\\n    \\\"电气设备\\\": [\\n        \\\"Transformer core lamination\\\", \\\"Smart grid sensors\\\", \\\"High-voltage circuit breakers\\\",\\n        \\\"Energy storage BMS\\\", \\\"Wireless power transfer\\\"\\n    ],\\n    \\\"物流与货运\\\": [\\n        \\\"Cross-docking optimization\\\", \\\"Cold chain logistics\\\", \\\"Autonomous warehouse robots\\\",\\n        \\\"Freight rate benchmarking\\\", \\\"Last-mile delivery drones\\\"\\n    ],\\n    \\\"无人机技术\\\": [\\n        \\\"Multispectral crop imaging\\\", \\\"LiDAR terrain mapping\\\", \\\"Swarm coordination algorithms\\\",\\n        \\\"BVLOS operations\\\", \\\"Payload release mechanisms\\\"\\n    ],\\n    \\\"3D打印技术\\\": [\\n        \\\"Selective laser sintering\\\", \\\"Digital light processing\\\", \\\"Binder jetting systems\\\",\\n        \\\"Topology optimization software\\\", \\\"Post-processing finishing\\\"\\n    ],\\n\\n    # 金融\\n    \\\"商业银行\\\": [\\n        \\\"Collateralized loan obligations\\\", \\\"Basel III compliance\\\", \\\"Cross-border payment rails\\\",\\n        \\\"Digital onboarding platforms\\\", \\\"Credit risk scoring models\\\"\\n    ],\\n    \\\"投资银行\\\": [\\n        \\\"SPAC merger advisory\\\", \\\"Algorithmic trading engines\\\", \\\"Dark pool liquidity\\\",\\n        \\\"ESG bond underwriting\\\", \\\"Prime brokerage services\\\"\\n    ],\\n    \\\"保险服务\\\": [\\n        \\\"Actuarial mortality tables\\\", \\\"Catastrophe bond issuance\\\", \\\"Telematics-based pricing\\\",\\n        \\\"Parametric insurance triggers\\\", \\\"Blockchain claims processing\\\"\\n    ],\\n    \\\"资产管理\\\": [\\n        \\\"Smart beta ETFs\\\", \\\"Private equity co-investment\\\", \\\"Quantamental strategies\\\",\\n        \\\"FX hedging overlays\\\", \\\"Liquidity stress testing\\\"\\n    ],\\n    \\\"金融科技\\\": [\\n        \\\"Central bank digital currency\\\", \\\"DeFi yield farming\\\", \\\"Cross-chain atomic swaps\\\",\\n        \\\"Contactless payment terminals\\\", \\\"AI fraud detection\\\"\\n    ],\\n    \\\"消费信贷\\\": [\\n        \\\"Buy now pay later (BNPL)\\\", \\\"Credit line management\\\", \\\"Alternative credit scoring\\\",\\n        \\\"Debt consolidation loans\\\", \\\"Dynamic credit limits\\\"\\n    ],\\n    \\\"房地产信托\\\": [\\n        \\\"Net lease agreements\\\", \\\"Capitalization rate analysis\\\", \\\"Tenant improvement allowances\\\",\\n        \\\"Green building certifications\\\", \\\"REIT dividend yield\\\"\\n    ],\\n\\n    # 信息技术\\n    \\\"半导体\\\": [\\n        \\\"Wafer fabrication\\\", \\\"EDA software\\\", \\\"Advanced packaging\\\", \\\"Photolithography systems\\\",\\n        \\\"Chiplet technology\\\"\\n    ],\\n    \\\"云计算\\\": [\\n        \\\"Hybrid cloud solutions\\\", \\\"Serverless computing\\\", \\\"Edge computing nodes\\\",\\n        \\\"Cloud security protocols\\\", \\\"Multi-cloud management\\\"\\n    ],\\n    \\\"人工智能\\\": [\\n        \\\"Neural network training\\\", \\\"Natural language processing (NLP)\\\", \\\"Computer vision algorithms\\\",\\n        \\\"Reinforcement learning frameworks\\\", \\\"AI ethics compliance\\\"\\n    ],\\n    \\\"网络安全\\\": [\\n        \\\"Zero-trust architecture\\\", \\\"Endpoint detection and response (EDR)\\\", \\\"Threat intelligence platforms\\\",\\n        \\\"Penetration testing tools\\\", \\\"Quantum encryption\\\"\\n    ],\\n    \\\"企业软件\\\": [\\n        \\\"ERP system integration\\\", \\\"CRM automation\\\", \\\"Low-code development platforms\\\",\\n        \\\"Business intelligence dashboards\\\", \\\"SaaS subscription models\\\"\\n    ],\\n    \\\"5G通信\\\": [\\n        \\\"Massive MIMO antennas\\\", \\\"Network slicing configurations\\\", \\\"mmWave spectrum allocation\\\",\\n        \\\"Open RAN architecture\\\", \\\"5G core networks\\\"\\n    ],\\n    \\\"量子计算\\\": [\\n        \\\"Qubit stabilization\\\", \\\"Quantum error correction\\\", \\\"Quantum annealing systems\\\",\\n        \\\"Photonic quantum chips\\\", \\\"Quantum algorithm development\\\"\\n    ],\\n    \\\"光电子技术\\\": [\\n        \\\"Optical transceivers\\\", \\\"LiDAR sensors\\\", \\\"Photovoltaic cells\\\", \\\"Fiber Bragg gratings\\\",\\n        \\\"Optoelectronic integrated circuits\\\"\\n    ]\\n}\\n\\nclass RiskAnalyzer:\\n    def __init__(self, risk_terms):\\n        self.risk_index = faiss.IndexFlatIP(384)\\n        self._build_risk_index(risk_terms)\\n        \\n    def _build_risk_index(self, terms):\\n        embeddings = semantic_model.encode(terms, convert_to_numpy=True)\\n        faiss.normalize_L2(embeddings)\\n        self.risk_index.add(embeddings)\\n        self.risk_terms = terms\\n        \\n    @lru_cache(maxsize=1000)\\n    def analyze(self, text, keyword_threshold=0.6, top_n=5):\\n        # 精确匹配\\n        exact_matches = [term for term in self.risk_terms \\n                        if re.search(rf'\\\\b{re.escape(term)}\\\\b', text, re.I)]\\n        \\n        # 语义匹配\\n        query_emb = semantic_model.encode([text], convert_to_numpy=True)\\n        faiss.normalize_L2(query_emb)\\n        _, indices = self.risk_index.search(query_emb, top_n)\\n        semantic_matches = [self.risk_terms[i] for i in indices[0]]\\n        \\n        # 准备风险提示模板\\n        risk_templates = [\\n            \\\"监测到'{match}'相关风险，可能对市场造成冲击。\\\",\\n            \\\"请注意，'{match}'可能引发行业波动，建议谨慎评估。\\\",\\n            \\\"风险提示：'{match}'或导致投资环境变化，请保持关注。\\\",\\n            \\\"检测到潜在风险因素'{match}'，可能影响相关资产表现。\\\",\\n            \\\"市场风险预警：'{match}'可能带来不确定性。\\\",\\n            \\\"投资者需警惕'{match}'的潜在负面影响。\\\",\\n            \\\"行业观察：'{match}'风险升高，建议调整策略。\\\",\\n            \\\"重要风险提示：'{match}'可能成为市场变数。\\\"\\n        ]\\n        \\n        # 去重并生成多样化提示\\n        matches = list(set(exact_matches + semantic_matches))\\n        random.shuffle(risk_templates)  # 随机打乱模板顺序\\n        \\n        enriched_matches = []\\n        for i, match in enumerate(matches[:top_n]):\\n            template = risk_templates[i % len(risk_templates)]\\n            enriched_matches.append(template.format(match=match))\\n        \\n        return enriched_matches[:top_n]\\n\\nclass IndustryMatcher:\\n    def __init__(self, industry_terms, semantic_threshold=0.65):\\n        self.industry_terms = industry_terms\\n        self.threshold = semantic_threshold\\n        self._precompute_embeddings()\\n        \\n    def _precompute_embeddings(self):\\n        self.industry_descs = {\\n            ind: ' '.join(terms) for ind, terms in self.industry_terms.items()\\n        }\\n        embeddings = semantic_model.encode(list(self.industry_descs.values()), \\n                                         convert_to_numpy=True)\\n        self.index = faiss.IndexFlatIP(embeddings.shape[1])\\n        faiss.normalize_L2(embeddings)\\n        self.index.add(embeddings)\\n        self.industry_list = list(self.industry_descs.keys())\\n    \\n    def _keyword_match(self, entities):\\n        scores = defaultdict(int)\\n        for entity, ent_type in entities:\\n            if ent_type not in ['ORG', 'PRODUCT', 'LOC']: \\n                continue\\n            for industry, terms in self.industry_terms.items():\\n                if any(entity in term for term in terms):\\n                    scores[industry] += 1\\n        return scores\\n    \\n    def match(self, text, entities, top_n=3):\\n        # 关键词匹配\\n        keyword_scores = self._keyword_match(entities)\\n        if keyword_scores:\\n            sorted_industries = sorted(keyword_scores.items(), \\n                                      key=lambda x: x[1], reverse=True)\\n            industries = [ind for ind, _ in sorted_industries[:top_n]]\\n        else:\\n            query_emb = semantic_model.encode([text], convert_to_numpy=True)\\n            faiss.normalize_L2(query_emb)\\n            _, indices = self.index.search(query_emb, top_n)\\n            industries = [self.industry_list[i] for i in indices[0]]\\n        \\n        # 准备行业推荐模板\\n        industry_templates = [\\n            \\\"推荐关注行业：'{industry}'，近期发展潜力较大。\\\",\\n            \\\"行业动态：'{industry}'领域或存在投资机会。\\\",\\n            \\\"建议重点关注'{industry}'行业的市场动向。\\\",\\n            \\\"投资机会：'{industry}'领域可能迎来增长期。\\\",\\n            \\\"行业分析：'{industry}'具备较高的关注价值。\\\",\\n            \\\"'{industry}'行业前景广阔，建议纳入观察列表。\\\",\\n            \\\"市场趋势显示，'{industry}'行业值得投资者留意。\\\",\\n            \\\"关注领域推荐：'{industry}'或成为下一热点。\\\"\\n        ]\\n        \\n        # 生成多样化推荐语\\n        random.shuffle(industry_templates)  # 随机打乱模板顺序\\n        enriched_industries = []\\n        for i, industry in enumerate(industries[:top_n]):\\n            template = industry_templates[i % len(industry_templates)]\\n            enriched_industries.append(template.format(industry=industry))\\n        \\n        return enriched_industries\\ndef generate_report(text, risk_top_n=5, industry_top_n=3):\\n    \\\"\\\"\\\"综合报告生成（更新版）\\\"\\\"\\\"\\n    # 风险分析\\n    risk_analyzer = RiskAnalyzer(risk_terms)\\n    risks = risk_analyzer.analyze(text, top_n=risk_top_n)\\n    \\n    # 行业匹配\\n    entities = extract_entities(text)\\n    industry_matcher = IndustryMatcher(industry_terms)\\n    industries = industry_matcher.match(text, entities, top_n=industry_top_n)\\n    \\n    # 报告生成（增强版）\\n    risk_header = random.choice([\\n        \\\"【风险预警雷达】检测到以下投资风险因素：\\\",\\n        \\\"【风险扫描报告】发现潜在风险指标：\\\",\\n        \\\"【风控提示】需要关注的风险信号：\\\",\\n        \\\"【风险扫描结果】识别到以下风险要素：\\\"\\n    ])\\n    \\n    industry_header = random.choice([\\n        \\\"【行业机遇发现】推荐关注领域：\\\",\\n        \\\"【投资机会扫描】潜在机会行业：\\\",\\n        \\\"【行业趋势洞察】建议关注方向：\\\",\\n        \\\"【板块机会提示】值得留意领域：\\\"\\n    ])\\n    \\n    risk_part = f\\\"{risk_header}\\\\n\\\" + (\\n        \\\"\\\\n\\\".join(risks) if risks \\n        else \\\"▶ 当前文本未检测到显著风险因素\\\"\\n    )\\n    \\n    industry_part = f\\\"\\\\n\\\\n{industry_header}\\\\n\\\" + (\\n        \\\"\\\\n\\\".join(industries) if industries \\n        else \\\"▶ 当前文本未匹配到特定行业\\\"\\n    )\\n    \\n    return f\\\"{risk_part}{industry_part}\\\"\\n\\n\",\"metadata\":{\"trusted\":true,\"execution\":{\"iopub.status.busy\":\"2025-03-27T11:28:03.288019Z\",\"iopub.execute_input\":\"2025-03-27T11:28:03.288432Z\",\"iopub.status.idle\":\"2025-03-27T11:28:05.837399Z\",\"shell.execute_reply.started\":\"2025-03-27T11:28:03.288396Z\",\"shell.execute_reply\":\"2025-03-27T11:28:05.836139Z\"}},\"outputs\":[],\"execution_count\":null},{\"cell_type\":\"markdown\",\"source\":\"## test代码\",\"metadata\":{}},{\"cell_type\":\"code\",\"source\":\"from Generate_model import generate_report\\n\\n# 示例文本\\ntest_up=\\\"\\\"\\\"\\\"Dow Soars 500 Points as Tech Giants Report Record Profits Ahead of Earnings Season.Fed Announces Unexpected Rate Cut, Sending Wall Street into Bullish Rally.Apple Unveils Revolutionary New iPhone, Sending Tech Stocks Skyrocketing.Oil Prices Plunge 10% Amid OPEC Supply Deal Collapse, Boosting Consumer Sentiment.Healthcare Sector Surges After FDA Approves Breakthrough Cancer Drug.Tesla Stock Jumps 20% on Rumors of New China Manufacturing Deal.\\nWall Street Celebrates as Trade War With China Suddenly Halts, Tariffs Rolled Back.Goldman Sachs Reports Triple Quarterly Earnings, Sparking Financial Sector Rally.U.S. Unemployment Drops to 3.5%, Igniting Optimism in Retail and Consumer Stocks.Amazon Announces $10 Billion Green Energy Investment, Green Tech Stocks Surge.Pharma Giant Pfizer Secures Global Vaccine Patent, Shares Leap 15%.Bitcoin Surges Past $100K Amid Institutional Adoption Surge, Crypto Stocks Follow.\\nBoeing Receives $15 Billion Defense Contract, Aerospace Sector Soars.Retailers Report Holiday Sales Boom, Wal-Mart and Target Shares Hit Record Highs.Federal Infrastructure Bill Passes Congress, Boosting Construction and Steel Stocks.European Central Bank Signals Support for Dollar, Strengthening U.S. Exporters.FAANG Stocks Rally 8% as Analysts Upgrade Growth Forecasts for 2024.Tesla Opens World’s Largest Battery Plant, Shares Climb to Uncharted Heights.\\nConsumer Confidence Index Hits 15-Year High, Driving Auto and Travel Stocks.\\nOil Majors Announce $50 Billion Dividend Boosts, Energy Sector Roars Back.Microsoft Acquires AI Startup for $20 Billion, Tech Sector Cheers Innovation.FDA Approves First Alzheimer’s Drug, Biotech Stocks Rally Across the Board.Fed Chair Signals Pause in Rate Hikes, Bond Yields Drop and Stocks Soar.Apple Pay Launches in India, Sending Global Payment Stocks into Overdrive.U.S. GDP Growth Revised Upward to 4%, Marking Strongest Quarter Since 2008\\\"\\\"\\\"\\n\\ntest_down=\\\"\\\"\\\"The Dow plunges 800 points as tech giants report disappointing earnings ahead of season. The Fed signals a rate hike surprise, triggering a market sell-off. Apple faces a data breach crisis, shares collapse 12%. Oil prices surge 15% after OPEC+ cuts supply, consumer stocks plunge. The FDA halts clinical trials for a leading cancer drug, biotech sector tanks. Tesla warns of production delays, stock drops 25% on supply chain woes. \\nTrade war escalates as China imposes new tariffs, global markets reel. Goldman Sachs reports a $2 billion loss, financial stocks dive. U.S. unemployment jumps to 6.5%, retail stocks plunge on weak consumer data. Amazon faces an antitrust lawsuit, shares drop 18% amid regulatory crackdown. Pfizer loses a patent battle, shares plunge as generic competitors enter the market. Bitcoin plummets 30% after a major exchange hack, crypto stocks crash.\\nBoeing delays 787 Dreamliner delivery, aerospace stocks collapse. Retailers report a holiday sales slump, Wal-Mart and Target shares hit 52-week lows. The infrastructure bill fails in Congress, construction stocks plunge. The ECB raises rates, weakening the dollar and harming U.S. exports. FAANG stocks crash 15% as analysts slash growth forecasts. Tesla shuts a Gigafactory over safety issues, shares plunge to an 18-month low.\\nConsumer confidence drops to a 10-year low, auto stocks collapse. Oil majors cut dividends amid price volatility, the energy sector tanks. \\nMicrosoft loses a major cloud contract, tech stocks slide. The FDA rejects an Alzheimer’s drug, the biotech sector plunges 10%. The Fed chair signals more rate hikes, bond yields spike and stocks plunge. Apple Pay faces a regulatory ban in India, payment stocks plummet. U.S. GDP growth is revised down to 1.2%, the worst quarter since 2009.\\\"\\\"\\\"\\n\\ntest_Xiaomi=\\\"\\\"\\\"Xiaomi EV Crash in Beijing Sparks Safety Concerns: Investigation Underway. High-Profile Collision Involving Xiaomi's New EV Model Raises Questions on Autonomous Driving Tech. First Reported Xiaomi SU7 Accident Triggers Calls for Regulatory Scrutiny on Emerging EV Brands.\\\"\\\"\\\"\\n\\n# 分别处理3个示例文本\\nprint(\\\"处理 test_up 的结果:\\\")\\noutput_up = generate_report(test_up)\\nprint(output_up)\\n\\nprint(\\\"\\\\n处理 test_down 的结果:\\\")\\noutput_down = generate_report(test_down)\\nprint(output_down)\\n\\nprint(\\\"\\\\n处理 test_Xiaomi 的结果:\\\")\\noutput_down = generate_report(test_Xiaomi)\\nprint(output_down)\",\"metadata\":{\"trusted\":true},\"outputs\":[],\"execution_count\":null}]}</th>\n",
              "    </tr>\n",
              "  </thead>\n",
              "  <tbody>\n",
              "  </tbody>\n",
              "</table>\n",
              "</div>\n",
              "    <div class=\"colab-df-buttons\">\n",
              "\n",
              "  <div class=\"colab-df-container\">\n",
              "    <button class=\"colab-df-convert\" onclick=\"convertToInteractive('df-6650ceb1-4f02-4eca-94be-b0c38fc2799d')\"\n",
              "            title=\"Convert this dataframe to an interactive table.\"\n",
              "            style=\"display:none;\">\n",
              "\n",
              "  <svg xmlns=\"http://www.w3.org/2000/svg\" height=\"24px\" viewBox=\"0 -960 960 960\">\n",
              "    <path d=\"M120-120v-720h720v720H120Zm60-500h600v-160H180v160Zm220 220h160v-160H400v160Zm0 220h160v-160H400v160ZM180-400h160v-160H180v160Zm440 0h160v-160H620v160ZM180-180h160v-160H180v160Zm440 0h160v-160H620v160Z\"/>\n",
              "  </svg>\n",
              "    </button>\n",
              "\n",
              "  <style>\n",
              "    .colab-df-container {\n",
              "      display:flex;\n",
              "      gap: 12px;\n",
              "    }\n",
              "\n",
              "    .colab-df-convert {\n",
              "      background-color: #E8F0FE;\n",
              "      border: none;\n",
              "      border-radius: 50%;\n",
              "      cursor: pointer;\n",
              "      display: none;\n",
              "      fill: #1967D2;\n",
              "      height: 32px;\n",
              "      padding: 0 0 0 0;\n",
              "      width: 32px;\n",
              "    }\n",
              "\n",
              "    .colab-df-convert:hover {\n",
              "      background-color: #E2EBFA;\n",
              "      box-shadow: 0px 1px 2px rgba(60, 64, 67, 0.3), 0px 1px 3px 1px rgba(60, 64, 67, 0.15);\n",
              "      fill: #174EA6;\n",
              "    }\n",
              "\n",
              "    .colab-df-buttons div {\n",
              "      margin-bottom: 4px;\n",
              "    }\n",
              "\n",
              "    [theme=dark] .colab-df-convert {\n",
              "      background-color: #3B4455;\n",
              "      fill: #D2E3FC;\n",
              "    }\n",
              "\n",
              "    [theme=dark] .colab-df-convert:hover {\n",
              "      background-color: #434B5C;\n",
              "      box-shadow: 0px 1px 3px 1px rgba(0, 0, 0, 0.15);\n",
              "      filter: drop-shadow(0px 1px 2px rgba(0, 0, 0, 0.3));\n",
              "      fill: #FFFFFF;\n",
              "    }\n",
              "  </style>\n",
              "\n",
              "    <script>\n",
              "      const buttonEl =\n",
              "        document.querySelector('#df-6650ceb1-4f02-4eca-94be-b0c38fc2799d button.colab-df-convert');\n",
              "      buttonEl.style.display =\n",
              "        google.colab.kernel.accessAllowed ? 'block' : 'none';\n",
              "\n",
              "      async function convertToInteractive(key) {\n",
              "        const element = document.querySelector('#df-6650ceb1-4f02-4eca-94be-b0c38fc2799d');\n",
              "        const dataTable =\n",
              "          await google.colab.kernel.invokeFunction('convertToInteractive',\n",
              "                                                    [key], {});\n",
              "        if (!dataTable) return;\n",
              "\n",
              "        const docLinkHtml = 'Like what you see? Visit the ' +\n",
              "          '<a target=\"_blank\" href=https://colab.research.google.com/notebooks/data_table.ipynb>data table notebook</a>'\n",
              "          + ' to learn more about interactive tables.';\n",
              "        element.innerHTML = '';\n",
              "        dataTable['output_type'] = 'display_data';\n",
              "        await google.colab.output.renderOutput(dataTable, element);\n",
              "        const docLink = document.createElement('div');\n",
              "        docLink.innerHTML = docLinkHtml;\n",
              "        element.appendChild(docLink);\n",
              "      }\n",
              "    </script>\n",
              "  </div>\n",
              "\n",
              "\n",
              "    </div>\n",
              "  </div>\n"
            ],
            "text/plain": [
              "Empty DataFrame\n",
              "Columns: [{\"metadata\":{\"kernelspec\":{\"language\":\"python\",\"display_name\":\"Python 3\",\"name\":\"python3\"},\"language_info\":{\"name\":\"python\",\"version\":\"3.10.12\",\"mimetype\":\"text/x-python\",\"codemirror_mode\":{\"name\":\"ipython\",\"version\":3},\"pygments_lexer\":\"ipython3\",\"nbconvert_exporter\":\"python\",\"file_extension\":\".py\"},\"kaggle\":{\"accelerator\":\"none\",\"dataSources\":[],\"dockerImageVersionId\":30918,\"isInternetEnabled\":true,\"language\":\"python\",\"sourceType\":\"notebook\",\"isGpuEnabled\":false}},\"nbformat_minor\":4,\"nbformat\":4,\"cells\":[{\"cell_type\":\"markdown\",\"source\":\"# Welcome to our project\\n\\n欢迎来到西冰库三人间的机器学习课程项目，接下来我们将会通过基于“Daily News for Stock Market Prediction”数据集的工作，来展示我们的课程学习成果。\\n\\n由于单独的大盘涨跌提示的信息过少，不太够用来投资。所以我们希望通过新闻语义理解和文本强化学习来实现**自动生成推荐/风险文本**，实现投资领域的推荐和避雷。\\n\\n接下来我们将会逐步展示我们的工作，包括我们所有的尝试。我们会详细的陈述我们遇到的困难和解决思路，同时贴出所有的源码和注释，希望能对您有所帮助。\",\"metadata\":{}},{\"cell_type\":\"markdown\",\"source\":\"# 数据集的简介\\n\\n无论采用什么方法，我们都需要先知道数据集长什么样。所以在开始之前，我们一起来回顾一下数据集的构成。在数据集里面有三个csv文件，其中“Combined_News_DJIA.csv”是已经处理好的，兼有股市涨跌作为label和日期匹配的新闻数据，所以我们采用这个文件作为数据来源。在文件里面，首列为date数据（从2008.8.8——2016.7.1），第二列为涨跌label（下跌0，上涨1），第三列到第二十五列为当日新闻\",\"metadata\":{}},{\"cell_type\":\"markdown\",\"source\":\"# 初版方案的实现\",\"metadata\":{}},{\"cell_type\":\"markdown\",\"source\":\"初版代码采用如下流程实现：\\n\\n```mermaid\\ngraph LR\\n    A[拼接后的新闻标题] --> B[BERT预训练模型做实体提取]\\n    B --> C{分别做风险/推荐词库匹配}\\n    C --> D[匹配到的风险领域]\\n    C --> E[匹配到的推荐领域]\\n    D --> F[生成投资风险领域警告]\\n    E --> G[生成投资推荐]\\n    H[项目流程图]\\n```\",\"metadata\":{}},{\"cell_type\":\"markdown\",\"source\":\"## 实现代码\",\"metadata\":{}},{\"cell_type\":\"code\",\"source\":\"import torch\\nimport faiss\\nimport random\\nimport re\\nimport numpy as np\\nfrom collections import defaultdict\\nfrom transformers import BertTokenizer, BertForTokenClassification\\nfrom sentence_transformers import SentenceTransformer\\nfrom functools import lru_cache\\nimport logging\\nfrom transformers import logging as transformers_logging\\n\\n# 设置transformers库的日志级别为ERROR，避免输出警告\\ntransformers_logging.set_verbosity_error()\\n\\n# 初始化核心组件\\nner_tokenizer = BertTokenizer.from_pretrained(\\\"dslim/bert-base-NER\\\")\\nner_model = BertForTokenClassification.from_pretrained(\\\"dslim/bert-base-NER\\\").eval()\\nsemantic_model = SentenceTransformer('all-MiniLM-L6-v2').eval()\\n\\ndef preprocess_text(text, max_length=512):\\n    \\\"\\\"\\\"智能分块处理\\\"\\\"\\\"\\n    sentences = re.findall(r'(?<!\\\\w\\\\.\\\\w.)(?<![A-Z][a-z]\\\\.)(?<=\\\\.|\\\\?)\\\\s*[^.!?]+', text)\\n    chunks, current_chunk = [], []\\n    current_len = 0\\n    \\n    for sent in sentences:\\n        sent_tokens = ner_tokenizer.tokenize(sent)\\n        if current_len + len(sent_tokens) > max_length - 2:\\n            chunks.append(' '.join(current_chunk))\\n            current_chunk, current_len = [], 0\\n        current_chunk.append(sent)\\n        current_len += len(sent_tokens)\\n    \\n    if current_chunk:\\n        chunks.append(' '.join(current_chunk))\\n    return chunks\\n\\ndef extract_entities(text):\\n    \\\"\\\"\\\"改进的实体提取\\\"\\\"\\\"\\n    chunks = preprocess_text(text)\\n    all_entities = []\\n    \\n    for chunk in chunks:\\n        inputs = ner_tokenizer(chunk, return_tensors=\\\"pt\\\", truncation=True)\\n        with torch.no_grad():\\n            outputs = ner_model(**inputs)\\n        \\n        predictions = torch.argmax(outputs.logits, dim=2)[0]\\n        tokens = ner_tokenizer.convert_ids_to_tokens(inputs[\\\"input_ids\\\"][0])\\n        tags = [ner_model.config.id2label[p] for p in predictions.tolist()]\\n        \\n        current_entity = []\\n        current_tag = None\\n        for token, tag in zip(tokens[1:-1], tags[1:-1]):  # 跳过[CLS]和[SEP]\\n            if tag.startswith(\\\"B-\\\"):\\n                if current_entity:\\n                    all_entities.append((' '.join(current_entity), current_tag))\\n                current_entity = [token]\\n                current_tag = tag[2:]\\n            elif tag.startswith(\\\"I-\\\") and current_tag == tag[2:]:\\n                current_entity.append(token)\\n            else:\\n                if current_entity:\\n                    all_entities.append((' '.join(current_entity), current_tag))\\n                current_entity = []\\n                current_tag = None\\n                \\n    return list(set([(ent.replace(\\\" ##\\\", \\\"\\\"), tag) for ent, tag in all_entities]))  # 清理合并的token\\n\\n# 风险关键词列表（同前）\\nrisk_terms = [\\n    # Technology Company-Specific Risks (新增分类)\\n    \\\"Huawei 5G technology sanctions\\\", \\\"Huawei supply chain decoupling\\\", \\\"Huawei HarmonyOS ecosystem fragmentation\\\",\\n    \\\"Xiaomi smartphone market volatility\\\", \\\"Xiaomi overseas data compliance issues\\\", \\\"Xiaomi IoT device security breach\\\",\\n    \\\"Alibaba cloud service outage\\\", \\\"Alibaba cross-border data flow restrictions\\\", \\\"Alibaba antitrust compliance failure\\\",\\n    \\\"Tencent gaming content regulation\\\", \\\"Tencent social media misinformation crisis\\\", \\\"Tencent fintech system vulnerability\\\",\\n    \\\"Baidu autonomous driving liability dispute\\\", \\\"Baidu AI ethics algorithm bias\\\", \\\"Baidu Apollo platform security flaw\\\",\\n    \\\"TikTok content moderation backlash\\\", \\\"TikTok global privacy litigation\\\", \\\"TikTok algorithmic transparency crisis\\\",\\n    \\\"ByteDance cross-border content censorship\\\", \\\"ByteDance AI training data privacy breach\\\", \\\"ByteDance global regulatory divergence\\\",\\n    \\\"ZTE US export restrictions renewal\\\", \\\"ZTE telecom equipment security audit failure\\\", \\\"ZTE 5G infrastructure dependency risk\\\",\\n    \\\"JD.com logistics automation failure\\\", \\\"JD.com supply chain AI prediction error\\\", \\\"JD.com counterfeit product detection crisis\\\",\\n    \\\"Meituan delivery algorithm abuse scandal\\\", \\\"Meituan local service data monopoly\\\", \\\"Meituan cross-industry competition backlash\\\",\\n    \\\"DJI drone export control escalation\\\", \\\"DJI aviation safety certification failure\\\", \\\"DJI global market localization conflict\\\",\\n    \\\"Bytedance TikTok-ByteDance corporate governance risk\\\", \\\"Huawei-Hisilicon chip design IP dispute\\\", \\\"Xiaomi-POCO brand localization backlash\\\",\\n    \\\"Chinese tech companies US listing restrictions\\\", \\\"Chinese AI companies data localization conflict\\\", \\\"Chinese cloud providers cross-border audit crisis\\\",\\n    \\\"Global semiconductor foundry dependency risk\\\", \\\"Critical technology IP litigation\\\", \\\"Cross-border technology transfer disputes\\\",\\n    \\\"AI company algorithmic transparency mandates\\\", \\\"Tech giants antitrust breakup threat\\\", \\\"Cloud infrastructure geopolitical risk\\\",\\n    \\\"Consumer electronics brand reputation crisis\\\", \\\"Tech company carbon neutrality compliance failure\\\", \\\"Open-source software license litigation\\\"\\n\\n    # 货币政策与金融市场动荡\\n    \\\"interest rate hike\\\", \\\"quantitative tightening\\\", \\\"bond yield surge\\\", \\\"sovereign debt crisis\\\",\\n    \\\"margin call\\\", \\\"credit rating downgrade\\\", \\\"repo market freeze\\\", \\\"junk bond collapse\\\",\\n    \\\"hyperinflation\\\", \\\"stagflation\\\", \\n    \\\"crypto market systemic collapse\\\", \\\"currency war escalation\\\", \\\"capital control contagion\\\", \\n    \\\"central bank digital currency (CBDC) malfunction\\\", \\\"algorithmic stablecoin depeg\\\", \\n    \\\"global interest rate policy divergence\\\", \\\"cross-border capital flow reversal\\\", \\n    \\\"shadow banking liquidity crunch\\\", \\\"sovereign wealth fund solvency crisis\\\", \\n    \\\"emerging market currency peg collapse\\\", \\\"debt-for-equity swap backlash\\\"  # 新增5项\\n\\n    # 行业性黑天鹅事件\\n    \\\"semiconductor shortage\\\", \\\"rare earth embargo\\\", \\\"pharma trial failure\\\", \\\"EV battery recall\\\",\\n    \\\"airline bankruptcy\\\", \\\"shipping container backlog\\\", \\\"real estate bubble\\\", \\\"crypto exchange collapse\\\",\\n    \\\"AI ethics scandal\\\", \\n    \\\"quantum computing security breach\\\", \\\"autonomous vehicle system failure\\\", \\\"gene editing mishap\\\", \\n    \\\"metaverse platform collapse\\\", \\\"cloud computing outage\\\", \\\"critical mineral cartel formation\\\", \\n    \\\"biometric authentication fraud\\\", \\\"nanotechnology safety crisis\\\", \\\"space debris collision cascade\\\", \\n    \\\"agricultural drone swarm malfunction\\\", \\\"synthetic biology containment breach\\\"  # 新增5项\\n\\n    # 自然灾害与气候风险\\n    \\\"extreme weather lockdown\\\", \\\"crop failure\\\", \\\"water scarcity\\\", \\\"carbon tax riot\\\",\\n    \\\"hurricane disruption\\\", \\\"wildfire insurance crisis\\\", \\\"flood supply chain\\\", \\\"El Niño commodity shock\\\",\\n    \\\"permafrost thaw acceleration\\\", \\\"coastal city submersion\\\", \\\"carbon capture failure\\\", \\n    \\\"climate litigation surge\\\", \\\"megadrought\\\", \\\"volcanic ash supply chain collapse\\\", \\n    \\\"global coral reef collapse\\\", \\\"ozone layer recovery reversal\\\", \\\"atmospheric methane spike\\\", \\n    \\\"arctic permafrost methane release\\\", \\\"hydropower reservoir sedimentation crisis\\\"  # 新增5项\\n\\n    # 公共卫生危机\\n    \\\"pandemic resurgence\\\", \\\"vaccine side effect panic\\\", \\\"antibiotic resistance\\\", \\\"hospital overload\\\",\\n    \\\"WHO emergency alert\\\", \\\"lab leak controversy\\\", \\\"zoonotic spillover\\\",\\n    \\\"unknown pathogen outbreak\\\", \\\"mental health pandemic\\\", \\\"antiviral resistance crisis\\\", \\n    \\\"medical AI misdiagnosis wave\\\", \\\"global blood shortage\\\", \\\"vaccine nationalism escalation\\\", \\n    \\\"gene therapy adverse reaction crisis\\\", \\\"organ shortage black market surge\\\", \\n    \\\"elderly care system collapse\\\", \\\"healthcare AI liability dispute\\\", \\\"pandemic vaccine inequity riot\\\"  # 新增5项\\n\\n    # 法律与监管突变\\n    \\\"antitrust breakup\\\", \\\"data privacy fine\\\", \\\"ESG compliance crash\\\", \\\"insider trading probe\\\",\\n    \\\"IPO suspension\\\", \\\"short selling ban\\\", \\\"derivative regulation\\\", \\\"cross-border audit conflict\\\",\\n    \\\"AI governance framework clash\\\", \\\"data sovereignty dispute\\\", \\\"quantum encryption regulation\\\", \\n    \\\"ESG greenwashing crackdown\\\", \\\"AI liability law ambiguity\\\", \\\"offshore tax haven collapse\\\", \\n    \\\"cross-border data localization mandate\\\", \\\"AI facial recognition ban\\\", \\n    \\\"quantum computing IP theft crackdown\\\", \\\"blockchain smart contract litigation surge\\\", \\n    \\\"offshore financial center collapse\\\"  # 新增5项\\n\\n    # 供应链与劳动力风险\\n    \\\"port strike\\\", \\\"chip fab fire\\\", \\\"battery plant protest\\\", \\\"mineral export ban\\\",\\n    \\\"trucker shortage\\\", \\\"union wage demand\\\", \\\"cross-strait logistics freeze\\\", \\\"child labor lawsuit\\\",\\n    \\\"supply chain decoupling\\\", \\\"AI labor displacement\\\", \\\"critical skill shortage\\\", \\n    \\\"3D printing material crisis\\\", \\\"agricultural labor automation backlash\\\", \\\"cross-border labor ban\\\", \\n    \\\"cross-border robotics tariff war\\\", \\\"labour force aging crisis\\\", \\n    \\\"autonomous logistics system failure\\\", \\\"critical infrastructure staffing shortage\\\", \\n    \\\"global supply chain carbon footprint audit\\\"  # 新增5项\\n\\n    # 能源与材料危机\\n    \\\"OPEC+ production cut\\\", \\\"LNG terminal explosion\\\", \\\"uranium shortage\\\", \\\"cobalt mining ban\\\",\\n    \\\"graphite embargo\\\", \\\"lithium cartel\\\", \\\"hydrogen leak panic\\\",\\n    \\\"solar panel supply chain fracture\\\", \\\"rare earth recycling crisis\\\", \\\"critical mineral embargo\\\", \\n    \\\"nuclear waste management failure\\\", \\\"biofuel feedstock shortage\\\", \\\"hydrogen infrastructure collapse\\\", \\n    \\\"geothermal energy seismic risk\\\", \\\"uranium enrichment facility sabotage\\\", \\n    \\\"critical battery material price spike\\\", \\\"solar panel silicon shortage\\\", \\n    \\\"ocean thermal energy conflict\\\"  # 新增5项\\n\\n    # 行为金融与市场情绪\\n    \\\"panic selling\\\", \\\"FOMO crash\\\", \\\"margin debt unwind\\\", \\\"whale account liquidation\\\",\\n    \\\"dark pool manipulation\\\", \\\"gamma squeeze\\\", \\\"rumor-driven selloff\\\",\\n    \\\"social media-driven volatility\\\", \\\"AI trading algorithm meltdown\\\", \\\"central bank communication crisis\\\", \\n    \\\"currency carry trade collapse\\\", \\\"ETF liquidity crunch\\\", \\\"decentralized finance (DeFi) flash crash\\\", \\n    \\\"AI-generated market manipulation\\\", \\\"blockchain oracle data fraud\\\", \\n    \\\"central bank communication credibility crisis\\\", \\\"algorithmic trading liquidity void\\\", \\n    \\\"market sentiment sentiment analysis distortion\\\"  # 新增5项\\n\\n    # 地缘博弈升级\\n    \\\"Taiwan Strait militarization\\\", \\\"South China Sea collision\\\", \\\"Arctic resource clash\\\",\\n    \\\"Mekong River dam war\\\", \\\"Kashmir border skirmish\\\", \\\"Sudan proxy war\\\", \\\"Nagorno-Karabakh escalation\\\",\\n    \\\"Arctic shipping route control\\\", \\\"space resource claim conflict\\\", \\\"5G spectrum war\\\", \\n    \\\"cyber warfare escalation\\\", \\\"critical infrastructure sabotage\\\", \\\"global satellite navigation jamming\\\", \\n    \\\"cross-border data flow war\\\", \\\"critical mineral supply chain weaponization\\\", \\\"quantum supremacy arms race\\\", \\n    \\\"polar ice cap territorial dispute\\\", \\\"deep-sea mining conflict\\\", \\n    \\\"space debris weaponization\\\", \\\"AI military system arms race\\\"  # 新增4项（保持总数平衡）\\n]\\n\\n# 行业词库（同前）\\nindustry_terms = {\\n    # 基础材料\\n    \\\"金属采矿\\\": [\\n        \\\"Iron ore mining rights\\\", \\\"Copper concentrate processing\\\", \\\"Bauxite exploration\\\",\\n        \\\"Rare earth refining\\\", \\\"Tungsten carbide production\\\"\\n    ],\\n    \\\"工业化学品\\\": [\\n        \\\"Polyethylene synthesis\\\", \\\"Chlor-alkali production units\\\", \\\"Titanium dioxide pigments\\\",\\n        \\\"Industrial solvent purification\\\", \\\"Synthetic resin polymerization\\\"\\n    ],\\n    \\\"特种化工\\\": [\\n        \\\"Carbon fiber precursors\\\", \\\"High-purity alumina\\\", \\\"Electronic-grade hydrofluoric acid\\\",\\n        \\\"Specialty ceramic coatings\\\", \\\"Industrial gas separation\\\"\\n    ],\\n    \\\"林业与纸制品\\\": [\\n        \\\"Kraft pulp production\\\", \\\"Corrugated packaging materials\\\", \\\"FSC-certified forestry\\\",\\n        \\\"Recycled paperboard manufacturing\\\", \\\"Laminated wood panels\\\"\\n    ],\\n    \\\"化肥与农业资源\\\": [\\n        \\\"Nitrogen fertilizer synthesis\\\", \\\"Phosphate rock processing\\\", \\\"Potash mining technology\\\",\\n        \\\"Soil amendment formulations\\\", \\\"Micronutrient fertilizers\\\"\\n    ],\\n    \\\"稀土与稀有金属\\\": [\\n        \\\"Neodymium-praseodymium alloy\\\", \\\"Cobalt concentrate refining\\\", \\\"Tantalum capacitor materials\\\",\\n        \\\"Rare earth permanent magnets\\\", \\\"Tungsten carbide powder\\\"\\n    ],\\n\\n    # 能源\\n    \\\"石油勘探\\\": [\\n        \\\"Shale gas fracking\\\", \\\"Offshore drilling rigs\\\", \\\"Reservoir simulation software\\\",\\n        \\\"Seismic imaging technology\\\", \\\"Oil sands extraction\\\"\\n    ],\\n    \\\"炼油与分销\\\": [\\n        \\\"Catalytic cracking units\\\", \\\"Gasoline blending optimization\\\", \\\"Pipeline corrosion monitoring\\\",\\n        \\\"Bunker fuel specifications\\\", \\\"Jet fuel additives\\\"\\n    ],\\n    \\\"油气服务\\\": [\\n        \\\"Hydraulic fracturing pumps\\\", \\\"Subsea Christmas trees\\\", \\\"Drilling mud systems\\\",\\n        \\\"Oilfield cementing services\\\", \\\"Pipeline integrity management\\\"\\n    ],\\n    \\\"液化天然气\\\": [\\n        \\\"Floating storage regasification\\\", \\\"Cryogenic tank insulation\\\", \\\"Boil-off gas recovery\\\",\\n        \\\"Small-scale LNG terminals\\\", \\\"Bunkering infrastructure\\\"\\n    ],\\n    \\\"太阳能设备\\\": [\\n        \\\"PERC solar cells\\\", \\\"Bifacial module technology\\\", \\\"Solar tracking algorithms\\\",\\n        \\\"Anti-reflective coatings\\\", \\\"PV inverter efficiency\\\"\\n    ],\\n    \\\"风能开发\\\": [\\n        \\\"Offshore wind turbine foundations\\\", \\\"Blade pitch control systems\\\", \\\"Nacelle yaw mechanisms\\\",\\n        \\\"Grid connection converters\\\", \\\"Wind resource assessment\\\"\\n    ],\\n    \\\"氢能源技术\\\": [\\n        \\\"Proton exchange membrane electrolyzers\\\", \\\"Hydrogen compression stations\\\", \\\"Fuel cell stacks\\\",\\n        \\\"Ammonia cracking reactors\\\", \\\"Hydrogen refueling protocols\\\"\\n    ],\\n    \\\"生物燃料\\\": [\\n        \\\"Algae biofuel cultivation\\\", \\\"Cellulosic ethanol fermentation\\\", \\\"Biodiesel transesterification\\\",\\n        \\\"Pyrolysis oil upgrading\\\", \\\"Anaerobic digestion plants\\\"\\n    ],\\n\\n    # 工业\\n    \\\"航空航天\\\": [\\n        \\\"Composite fuselage manufacturing\\\", \\\"Turbofan engine blades\\\", \\\"Satellite attitude control\\\",\\n        \\\"Radar-absorbing materials\\\", \\\"Aircraft maintenance MRO\\\"\\n    ],\\n    \\\"铁路设备\\\": [\\n        \\\"Bogie frame casting\\\", \\\"Pantograph current collection\\\", \\\"Axle load monitoring\\\",\\n        \\\"Container intermodal systems\\\", \\\"Railway signaling ETCS\\\"\\n    ],\\n    \\\"工业机械\\\": [\\n        \\\"CNC machining centers\\\", \\\"Industrial robot end-effectors\\\", \\\"Hydraulic press automation\\\",\\n        \\\"Laser cutting optics\\\", \\\"Additive manufacturing powders\\\"\\n    ],\\n    \\\"建筑工程\\\": [\\n        \\\"BIM coordination software\\\", \\\"Prefabricated concrete elements\\\", \\\"Geotechnical instrumentation\\\",\\n        \\\"Construction waste recycling\\\", \\\"Smart building IoT\\\"\\n    ],\\n    \\\"电气设备\\\": [\\n        \\\"Transformer core lamination\\\", \\\"Smart grid sensors\\\", \\\"High-voltage circuit breakers\\\",\\n        \\\"Energy storage BMS\\\", \\\"Wireless power transfer\\\"\\n    ],\\n    \\\"物流与货运\\\": [\\n        \\\"Cross-docking optimization\\\", \\\"Cold chain logistics\\\", \\\"Autonomous warehouse robots\\\",\\n        \\\"Freight rate benchmarking\\\", \\\"Last-mile delivery drones\\\"\\n    ],\\n    \\\"无人机技术\\\": [\\n        \\\"Multispectral crop imaging\\\", \\\"LiDAR terrain mapping\\\", \\\"Swarm coordination algorithms\\\",\\n        \\\"BVLOS operations\\\", \\\"Payload release mechanisms\\\"\\n    ],\\n    \\\"3D打印技术\\\": [\\n        \\\"Selective laser sintering\\\", \\\"Digital light processing\\\", \\\"Binder jetting systems\\\",\\n        \\\"Topology optimization software\\\", \\\"Post-processing finishing\\\"\\n    ],\\n\\n    # 金融\\n    \\\"商业银行\\\": [\\n        \\\"Collateralized loan obligations\\\", \\\"Basel III compliance\\\", \\\"Cross-border payment rails\\\",\\n        \\\"Digital onboarding platforms\\\", \\\"Credit risk scoring models\\\"\\n    ],\\n    \\\"投资银行\\\": [\\n        \\\"SPAC merger advisory\\\", \\\"Algorithmic trading engines\\\", \\\"Dark pool liquidity\\\",\\n        \\\"ESG bond underwriting\\\", \\\"Prime brokerage services\\\"\\n    ],\\n    \\\"保险服务\\\": [\\n        \\\"Actuarial mortality tables\\\", \\\"Catastrophe bond issuance\\\", \\\"Telematics-based pricing\\\",\\n        \\\"Parametric insurance triggers\\\", \\\"Blockchain claims processing\\\"\\n    ],\\n    \\\"资产管理\\\": [\\n        \\\"Smart beta ETFs\\\", \\\"Private equity co-investment\\\", \\\"Quantamental strategies\\\",\\n        \\\"FX hedging overlays\\\", \\\"Liquidity stress testing\\\"\\n    ],\\n    \\\"金融科技\\\": [\\n        \\\"Central bank digital currency\\\", \\\"DeFi yield farming\\\", \\\"Cross-chain atomic swaps\\\",\\n        \\\"Contactless payment terminals\\\", \\\"AI fraud detection\\\"\\n    ],\\n    \\\"消费信贷\\\": [\\n        \\\"Buy now pay later (BNPL)\\\", \\\"Credit line management\\\", \\\"Alternative credit scoring\\\",\\n        \\\"Debt consolidation loans\\\", \\\"Dynamic credit limits\\\"\\n    ],\\n    \\\"房地产信托\\\": [\\n        \\\"Net lease agreements\\\", \\\"Capitalization rate analysis\\\", \\\"Tenant improvement allowances\\\",\\n        \\\"Green building certifications\\\", \\\"REIT dividend yield\\\"\\n    ],\\n\\n    # 信息技术\\n    \\\"半导体\\\": [\\n        \\\"Wafer fabrication\\\", \\\"EDA software\\\", \\\"Advanced packaging\\\", \\\"Photolithography systems\\\",\\n        \\\"Chiplet technology\\\"\\n    ],\\n    \\\"云计算\\\": [\\n        \\\"Hybrid cloud solutions\\\", \\\"Serverless computing\\\", \\\"Edge computing nodes\\\",\\n        \\\"Cloud security protocols\\\", \\\"Multi-cloud management\\\"\\n    ],\\n    \\\"人工智能\\\": [\\n        \\\"Neural network training\\\", \\\"Natural language processing (NLP)\\\", \\\"Computer vision algorithms\\\",\\n        \\\"Reinforcement learning frameworks\\\", \\\"AI ethics compliance\\\"\\n    ],\\n    \\\"网络安全\\\": [\\n        \\\"Zero-trust architecture\\\", \\\"Endpoint detection and response (EDR)\\\", \\\"Threat intelligence platforms\\\",\\n        \\\"Penetration testing tools\\\", \\\"Quantum encryption\\\"\\n    ],\\n    \\\"企业软件\\\": [\\n        \\\"ERP system integration\\\", \\\"CRM automation\\\", \\\"Low-code development platforms\\\",\\n        \\\"Business intelligence dashboards\\\", \\\"SaaS subscription models\\\"\\n    ],\\n    \\\"5G通信\\\": [\\n        \\\"Massive MIMO antennas\\\", \\\"Network slicing configurations\\\", \\\"mmWave spectrum allocation\\\",\\n        \\\"Open RAN architecture\\\", \\\"5G core networks\\\"\\n    ],\\n    \\\"量子计算\\\": [\\n        \\\"Qubit stabilization\\\", \\\"Quantum error correction\\\", \\\"Quantum annealing systems\\\",\\n        \\\"Photonic quantum chips\\\", \\\"Quantum algorithm development\\\"\\n    ],\\n    \\\"光电子技术\\\": [\\n        \\\"Optical transceivers\\\", \\\"LiDAR sensors\\\", \\\"Photovoltaic cells\\\", \\\"Fiber Bragg gratings\\\",\\n        \\\"Optoelectronic integrated circuits\\\"\\n    ]\\n}\\n\\nclass RiskAnalyzer:\\n    def __init__(self, risk_terms):\\n        self.risk_index = faiss.IndexFlatIP(384)\\n        self._build_risk_index(risk_terms)\\n        \\n    def _build_risk_index(self, terms):\\n        embeddings = semantic_model.encode(terms, convert_to_numpy=True)\\n        faiss.normalize_L2(embeddings)\\n        self.risk_index.add(embeddings)\\n        self.risk_terms = terms\\n        \\n    @lru_cache(maxsize=1000)\\n    def analyze(self, text, keyword_threshold=0.6, top_n=5):\\n        # 精确匹配\\n        exact_matches = [term for term in self.risk_terms \\n                        if re.search(rf'\\\\b{re.escape(term)}\\\\b', text, re.I)]\\n        \\n        # 语义匹配\\n        query_emb = semantic_model.encode([text], convert_to_numpy=True)\\n        faiss.normalize_L2(query_emb)\\n        _, indices = self.risk_index.search(query_emb, top_n)\\n        semantic_matches = [self.risk_terms[i] for i in indices[0]]\\n        \\n        # 准备风险提示模板\\n        risk_templates = [\\n            \\\"监测到'{match}'相关风险，可能对市场造成冲击。\\\",\\n            \\\"请注意，'{match}'可能引发行业波动，建议谨慎评估。\\\",\\n            \\\"风险提示：'{match}'或导致投资环境变化，请保持关注。\\\",\\n            \\\"检测到潜在风险因素'{match}'，可能影响相关资产表现。\\\",\\n            \\\"市场风险预警：'{match}'可能带来不确定性。\\\",\\n            \\\"投资者需警惕'{match}'的潜在负面影响。\\\",\\n            \\\"行业观察：'{match}'风险升高，建议调整策略。\\\",\\n            \\\"重要风险提示：'{match}'可能成为市场变数。\\\"\\n        ]\\n        \\n        # 去重并生成多样化提示\\n        matches = list(set(exact_matches + semantic_matches))\\n        random.shuffle(risk_templates)  # 随机打乱模板顺序\\n        \\n        enriched_matches = []\\n        for i, match in enumerate(matches[:top_n]):\\n            template = risk_templates[i % len(risk_templates)]\\n            enriched_matches.append(template.format(match=match))\\n        \\n        return enriched_matches[:top_n]\\n\\nclass IndustryMatcher:\\n    def __init__(self, industry_terms, semantic_threshold=0.65):\\n        self.industry_terms = industry_terms\\n        self.threshold = semantic_threshold\\n        self._precompute_embeddings()\\n        \\n    def _precompute_embeddings(self):\\n        self.industry_descs = {\\n            ind: ' '.join(terms) for ind, terms in self.industry_terms.items()\\n        }\\n        embeddings = semantic_model.encode(list(self.industry_descs.values()), \\n                                         convert_to_numpy=True)\\n        self.index = faiss.IndexFlatIP(embeddings.shape[1])\\n        faiss.normalize_L2(embeddings)\\n        self.index.add(embeddings)\\n        self.industry_list = list(self.industry_descs.keys())\\n    \\n    def _keyword_match(self, entities):\\n        scores = defaultdict(int)\\n        for entity, ent_type in entities:\\n            if ent_type not in ['ORG', 'PRODUCT', 'LOC']: \\n                continue\\n            for industry, terms in self.industry_terms.items():\\n                if any(entity in term for term in terms):\\n                    scores[industry] += 1\\n        return scores\\n    \\n    def match(self, text, entities, top_n=3):\\n        # 关键词匹配\\n        keyword_scores = self._keyword_match(entities)\\n        if keyword_scores:\\n            sorted_industries = sorted(keyword_scores.items(), \\n                                      key=lambda x: x[1], reverse=True)\\n            industries = [ind for ind, _ in sorted_industries[:top_n]]\\n        else:\\n            query_emb = semantic_model.encode([text], convert_to_numpy=True)\\n            faiss.normalize_L2(query_emb)\\n            _, indices = self.index.search(query_emb, top_n)\\n            industries = [self.industry_list[i] for i in indices[0]]\\n        \\n        # 准备行业推荐模板\\n        industry_templates = [\\n            \\\"推荐关注行业：'{industry}'，近期发展潜力较大。\\\",\\n            \\\"行业动态：'{industry}'领域或存在投资机会。\\\",\\n            \\\"建议重点关注'{industry}'行业的市场动向。\\\",\\n            \\\"投资机会：'{industry}'领域可能迎来增长期。\\\",\\n            \\\"行业分析：'{industry}'具备较高的关注价值。\\\",\\n            \\\"'{industry}'行业前景广阔，建议纳入观察列表。\\\",\\n            \\\"市场趋势显示，'{industry}'行业值得投资者留意。\\\",\\n            \\\"关注领域推荐：'{industry}'或成为下一热点。\\\"\\n        ]\\n        \\n        # 生成多样化推荐语\\n        random.shuffle(industry_templates)  # 随机打乱模板顺序\\n        enriched_industries = []\\n        for i, industry in enumerate(industries[:top_n]):\\n            template = industry_templates[i % len(industry_templates)]\\n            enriched_industries.append(template.format(industry=industry))\\n        \\n        return enriched_industries\\ndef generate_report(text, risk_top_n=5, industry_top_n=3):\\n    \\\"\\\"\\\"综合报告生成（更新版）\\\"\\\"\\\"\\n    # 风险分析\\n    risk_analyzer = RiskAnalyzer(risk_terms)\\n    risks = risk_analyzer.analyze(text, top_n=risk_top_n)\\n    \\n    # 行业匹配\\n    entities = extract_entities(text)\\n    industry_matcher = IndustryMatcher(industry_terms)\\n    industries = industry_matcher.match(text, entities, top_n=industry_top_n)\\n    \\n    # 报告生成（增强版）\\n    risk_header = random.choice([\\n        \\\"【风险预警雷达】检测到以下投资风险因素：\\\",\\n        \\\"【风险扫描报告】发现潜在风险指标：\\\",\\n        \\\"【风控提示】需要关注的风险信号：\\\",\\n        \\\"【风险扫描结果】识别到以下风险要素：\\\"\\n    ])\\n    \\n    industry_header = random.choice([\\n        \\\"【行业机遇发现】推荐关注领域：\\\",\\n        \\\"【投资机会扫描】潜在机会行业：\\\",\\n        \\\"【行业趋势洞察】建议关注方向：\\\",\\n        \\\"【板块机会提示】值得留意领域：\\\"\\n    ])\\n    \\n    risk_part = f\\\"{risk_header}\\\\n\\\" + (\\n        \\\"\\\\n\\\".join(risks) if risks \\n        else \\\"▶ 当前文本未检测到显著风险因素\\\"\\n    )\\n    \\n    industry_part = f\\\"\\\\n\\\\n{industry_header}\\\\n\\\" + (\\n        \\\"\\\\n\\\".join(industries) if industries \\n        else \\\"▶ 当前文本未匹配到特定行业\\\"\\n    )\\n    \\n    return f\\\"{risk_part}{industry_part}\\\"\\n\\n\",\"metadata\":{\"trusted\":true,\"execution\":{\"iopub.status.busy\":\"2025-03-27T11:28:03.288019Z\",\"iopub.execute_input\":\"2025-03-27T11:28:03.288432Z\",\"iopub.status.idle\":\"2025-03-27T11:28:05.837399Z\",\"shell.execute_reply.started\":\"2025-03-27T11:28:03.288396Z\",\"shell.execute_reply\":\"2025-03-27T11:28:05.836139Z\"}},\"outputs\":[],\"execution_count\":null},{\"cell_type\":\"markdown\",\"source\":\"## test代码\",\"metadata\":{}},{\"cell_type\":\"code\",\"source\":\"from Generate_model import generate_report\\n\\n# 示例文本\\ntest_up=\\\"\\\"\\\"\\\"Dow Soars 500 Points as Tech Giants Report Record Profits Ahead of Earnings Season.Fed Announces Unexpected Rate Cut, Sending Wall Street into Bullish Rally.Apple Unveils Revolutionary New iPhone, Sending Tech Stocks Skyrocketing.Oil Prices Plunge 10% Amid OPEC Supply Deal Collapse, Boosting Consumer Sentiment.Healthcare Sector Surges After FDA Approves Breakthrough Cancer Drug.Tesla Stock Jumps 20% on Rumors of New China Manufacturing Deal.\\nWall Street Celebrates as Trade War With China Suddenly Halts, Tariffs Rolled Back.Goldman Sachs Reports Triple Quarterly Earnings, Sparking Financial Sector Rally.U.S. Unemployment Drops to 3.5%, Igniting Optimism in Retail and Consumer Stocks.Amazon Announces $10 Billion Green Energy Investment, Green Tech Stocks Surge.Pharma Giant Pfizer Secures Global Vaccine Patent, Shares Leap 15%.Bitcoin Surges Past $100K Amid Institutional Adoption Surge, Crypto Stocks Follow.\\nBoeing Receives $15 Billion Defense Contract, Aerospace Sector Soars.Retailers Report Holiday Sales Boom, Wal-Mart and Target Shares Hit Record Highs.Federal Infrastructure Bill Passes Congress, Boosting Construction and Steel Stocks.European Central Bank Signals Support for Dollar, Strengthening U.S. Exporters.FAANG Stocks Rally 8% as Analysts Upgrade Growth Forecasts for 2024.Tesla Opens World’s Largest Battery Plant, Shares Climb to Uncharted Heights.\\nConsumer Confidence Index Hits 15-Year High, Driving Auto and Travel Stocks.\\nOil Majors Announce $50 Billion Dividend Boosts, Energy Sector Roars Back.Microsoft Acquires AI Startup for $20 Billion, Tech Sector Cheers Innovation.FDA Approves First Alzheimer’s Drug, Biotech Stocks Rally Across the Board.Fed Chair Signals Pause in Rate Hikes, Bond Yields Drop and Stocks Soar.Apple Pay Launches in India, Sending Global Payment Stocks into Overdrive.U.S. GDP Growth Revised Upward to 4%, Marking Strongest Quarter Since 2008\\\"\\\"\\\"\\n\\ntest_down=\\\"\\\"\\\"The Dow plunges 800 points as tech giants report disappointing earnings ahead of season. The Fed signals a rate hike surprise, triggering a market sell-off. Apple faces a data breach crisis, shares collapse 12%. Oil prices surge 15% after OPEC+ cuts supply, consumer stocks plunge. The FDA halts clinical trials for a leading cancer drug, biotech sector tanks. Tesla warns of production delays, stock drops 25% on supply chain woes. \\nTrade war escalates as China imposes new tariffs, global markets reel. Goldman Sachs reports a $2 billion loss, financial stocks dive. U.S. unemployment jumps to 6.5%, retail stocks plunge on weak consumer data. Amazon faces an antitrust lawsuit, shares drop 18% amid regulatory crackdown. Pfizer loses a patent battle, shares plunge as generic competitors enter the market. Bitcoin plummets 30% after a major exchange hack, crypto stocks crash.\\nBoeing delays 787 Dreamliner delivery, aerospace stocks collapse. Retailers report a holiday sales slump, Wal-Mart and Target shares hit 52-week lows. The infrastructure bill fails in Congress, construction stocks plunge. The ECB raises rates, weakening the dollar and harming U.S. exports. FAANG stocks crash 15% as analysts slash growth forecasts. Tesla shuts a Gigafactory over safety issues, shares plunge to an 18-month low.\\nConsumer confidence drops to a 10-year low, auto stocks collapse. Oil majors cut dividends amid price volatility, the energy sector tanks. \\nMicrosoft loses a major cloud contract, tech stocks slide. The FDA rejects an Alzheimer’s drug, the biotech sector plunges 10%. The Fed chair signals more rate hikes, bond yields spike and stocks plunge. Apple Pay faces a regulatory ban in India, payment stocks plummet. U.S. GDP growth is revised down to 1.2%, the worst quarter since 2009.\\\"\\\"\\\"\\n\\ntest_Xiaomi=\\\"\\\"\\\"Xiaomi EV Crash in Beijing Sparks Safety Concerns: Investigation Underway. High-Profile Collision Involving Xiaomi's New EV Model Raises Questions on Autonomous Driving Tech. First Reported Xiaomi SU7 Accident Triggers Calls for Regulatory Scrutiny on Emerging EV Brands.\\\"\\\"\\\"\\n\\n# 分别处理3个示例文本\\nprint(\\\"处理 test_up 的结果:\\\")\\noutput_up = generate_report(test_up)\\nprint(output_up)\\n\\nprint(\\\"\\\\n处理 test_down 的结果:\\\")\\noutput_down = generate_report(test_down)\\nprint(output_down)\\n\\nprint(\\\"\\\\n处理 test_Xiaomi 的结果:\\\")\\noutput_down = generate_report(test_Xiaomi)\\nprint(output_down)\",\"metadata\":{\"trusted\":true},\"outputs\":[],\"execution_count\":null}]}]\n",
              "Index: []"
            ]
          },
          "execution_count": 4,
          "metadata": {},
          "output_type": "execute_result"
        }
      ],
      "source": [
        "# Display first few rows\n",
        "df.head()"
      ]
    },
    {
      "cell_type": "markdown",
      "metadata": {
        "id": "F0Ndy3nSNKoD"
      },
      "source": [
        "Check for Missing Values and Duplicates\n"
      ]
    },
    {
      "cell_type": "code",
      "execution_count": null,
      "metadata": {
        "colab": {
          "base_uri": "https://localhost:8080/"
        },
        "id": "HRg-iqm5NQmS",
        "outputId": "f504b612-223d-4b62-dfe9-60967c20d582"
      },
      "outputs": [
        {
          "name": "stdout",
          "output_type": "stream",
          "text": [
            "{\"metadata\":{\"kernelspec\":{\"language\":\"python\",\"display_name\":\"Python 3\",\"name\":\"python3\"},\"language_info\":{\"name\":\"python\",\"version\":\"3.10.12\",\"mimetype\":\"text/x-python\",\"codemirror_mode\":{\"name\":\"ipython\",\"version\":3},\"pygments_lexer\":\"ipython3\",\"nbconvert_exporter\":\"python\",\"file_extension\":\".py\"},\"kaggle\":{\"accelerator\":\"none\",\"dataSources\":[],\"dockerImageVersionId\":30918,\"isInternetEnabled\":true,\"language\":\"python\",\"sourceType\":\"notebook\",\"isGpuEnabled\":false}},\"nbformat_minor\":4,\"nbformat\":4,\"cells\":[{\"cell_type\":\"markdown\",\"source\":\"# Welcome to our project\\n\\n欢迎来到西冰库三人间的机器学习课程项目，接下来我们将会通过基于“Daily News for Stock Market Prediction”数据集的工作，来展示我们的课程学习成果。\\n\\n由于单独的大盘涨跌提示的信息过少，不太够用来投资。所以我们希望通过新闻语义理解和文本强化学习来实现**自动生成推荐/风险文本**，实现投资领域的推荐和避雷。\\n\\n接下来我们将会逐步展示我们的工作，包括我们所有的尝试。我们会详细的陈述我们遇到的困难和解决思路，同时贴出所有的源码和注释，希望能对您有所帮助。\",\"metadata\":{}},{\"cell_type\":\"markdown\",\"source\":\"# 数据集的简介\\n\\n无论采用什么方法，我们都需要先知道数据集长什么样。所以在开始之前，我们一起来回顾一下数据集的构成。在数据集里面有三个csv文件，其中“Combined_News_DJIA.csv”是已经处理好的，兼有股市涨跌作为label和日期匹配的新闻数据，所以我们采用这个文件作为数据来源。在文件里面，首列为date数据（从2008.8.8——2016.7.1），第二列为涨跌label（下跌0，上涨1），第三列到第二十五列为当日新闻\",\"metadata\":{}},{\"cell_type\":\"markdown\",\"source\":\"# 初版方案的实现\",\"metadata\":{}},{\"cell_type\":\"markdown\",\"source\":\"初版代码采用如下流程实现：\\n\\n```mermaid\\ngraph LR\\n    A[拼接后的新闻标题] --> B[BERT预训练模型做实体提取]\\n    B --> C{分别做风险/推荐词库匹配}\\n    C --> D[匹配到的风险领域]\\n    C --> E[匹配到的推荐领域]\\n    D --> F[生成投资风险领域警告]\\n    E --> G[生成投资推荐]\\n    H[项目流程图]\\n```\",\"metadata\":{}},{\"cell_type\":\"markdown\",\"source\":\"## 实现代码\",\"metadata\":{}},{\"cell_type\":\"code\",\"source\":\"import torch\\nimport faiss\\nimport random\\nimport re\\nimport numpy as np\\nfrom collections import defaultdict\\nfrom transformers import BertTokenizer, BertForTokenClassification\\nfrom sentence_transformers import SentenceTransformer\\nfrom functools import lru_cache\\nimport logging\\nfrom transformers import logging as transformers_logging\\n\\n# 设置transformers库的日志级别为ERROR，避免输出警告\\ntransformers_logging.set_verbosity_error()\\n\\n# 初始化核心组件\\nner_tokenizer = BertTokenizer.from_pretrained(\\\"dslim/bert-base-NER\\\")\\nner_model = BertForTokenClassification.from_pretrained(\\\"dslim/bert-base-NER\\\").eval()\\nsemantic_model = SentenceTransformer('all-MiniLM-L6-v2').eval()\\n\\ndef preprocess_text(text, max_length=512):\\n    \\\"\\\"\\\"智能分块处理\\\"\\\"\\\"\\n    sentences = re.findall(r'(?<!\\\\w\\\\.\\\\w.)(?<![A-Z][a-z]\\\\.)(?<=\\\\.|\\\\?)\\\\s*[^.!?]+', text)\\n    chunks, current_chunk = [], []\\n    current_len = 0\\n    \\n    for sent in sentences:\\n        sent_tokens = ner_tokenizer.tokenize(sent)\\n        if current_len + len(sent_tokens) > max_length - 2:\\n            chunks.append(' '.join(current_chunk))\\n            current_chunk, current_len = [], 0\\n        current_chunk.append(sent)\\n        current_len += len(sent_tokens)\\n    \\n    if current_chunk:\\n        chunks.append(' '.join(current_chunk))\\n    return chunks\\n\\ndef extract_entities(text):\\n    \\\"\\\"\\\"改进的实体提取\\\"\\\"\\\"\\n    chunks = preprocess_text(text)\\n    all_entities = []\\n    \\n    for chunk in chunks:\\n        inputs = ner_tokenizer(chunk, return_tensors=\\\"pt\\\", truncation=True)\\n        with torch.no_grad():\\n            outputs = ner_model(**inputs)\\n        \\n        predictions = torch.argmax(outputs.logits, dim=2)[0]\\n        tokens = ner_tokenizer.convert_ids_to_tokens(inputs[\\\"input_ids\\\"][0])\\n        tags = [ner_model.config.id2label[p] for p in predictions.tolist()]\\n        \\n        current_entity = []\\n        current_tag = None\\n        for token, tag in zip(tokens[1:-1], tags[1:-1]):  # 跳过[CLS]和[SEP]\\n            if tag.startswith(\\\"B-\\\"):\\n                if current_entity:\\n                    all_entities.append((' '.join(current_entity), current_tag))\\n                current_entity = [token]\\n                current_tag = tag[2:]\\n            elif tag.startswith(\\\"I-\\\") and current_tag == tag[2:]:\\n                current_entity.append(token)\\n            else:\\n                if current_entity:\\n                    all_entities.append((' '.join(current_entity), current_tag))\\n                current_entity = []\\n                current_tag = None\\n                \\n    return list(set([(ent.replace(\\\" ##\\\", \\\"\\\"), tag) for ent, tag in all_entities]))  # 清理合并的token\\n\\n# 风险关键词列表（同前）\\nrisk_terms = [\\n    # Technology Company-Specific Risks (新增分类)\\n    \\\"Huawei 5G technology sanctions\\\", \\\"Huawei supply chain decoupling\\\", \\\"Huawei HarmonyOS ecosystem fragmentation\\\",\\n    \\\"Xiaomi smartphone market volatility\\\", \\\"Xiaomi overseas data compliance issues\\\", \\\"Xiaomi IoT device security breach\\\",\\n    \\\"Alibaba cloud service outage\\\", \\\"Alibaba cross-border data flow restrictions\\\", \\\"Alibaba antitrust compliance failure\\\",\\n    \\\"Tencent gaming content regulation\\\", \\\"Tencent social media misinformation crisis\\\", \\\"Tencent fintech system vulnerability\\\",\\n    \\\"Baidu autonomous driving liability dispute\\\", \\\"Baidu AI ethics algorithm bias\\\", \\\"Baidu Apollo platform security flaw\\\",\\n    \\\"TikTok content moderation backlash\\\", \\\"TikTok global privacy litigation\\\", \\\"TikTok algorithmic transparency crisis\\\",\\n    \\\"ByteDance cross-border content censorship\\\", \\\"ByteDance AI training data privacy breach\\\", \\\"ByteDance global regulatory divergence\\\",\\n    \\\"ZTE US export restrictions renewal\\\", \\\"ZTE telecom equipment security audit failure\\\", \\\"ZTE 5G infrastructure dependency risk\\\",\\n    \\\"JD.com logistics automation failure\\\", \\\"JD.com supply chain AI prediction error\\\", \\\"JD.com counterfeit product detection crisis\\\",\\n    \\\"Meituan delivery algorithm abuse scandal\\\", \\\"Meituan local service data monopoly\\\", \\\"Meituan cross-industry competition backlash\\\",\\n    \\\"DJI drone export control escalation\\\", \\\"DJI aviation safety certification failure\\\", \\\"DJI global market localization conflict\\\",\\n    \\\"Bytedance TikTok-ByteDance corporate governance risk\\\", \\\"Huawei-Hisilicon chip design IP dispute\\\", \\\"Xiaomi-POCO brand localization backlash\\\",\\n    \\\"Chinese tech companies US listing restrictions\\\", \\\"Chinese AI companies data localization conflict\\\", \\\"Chinese cloud providers cross-border audit crisis\\\",\\n    \\\"Global semiconductor foundry dependency risk\\\", \\\"Critical technology IP litigation\\\", \\\"Cross-border technology transfer disputes\\\",\\n    \\\"AI company algorithmic transparency mandates\\\", \\\"Tech giants antitrust breakup threat\\\", \\\"Cloud infrastructure geopolitical risk\\\",\\n    \\\"Consumer electronics brand reputation crisis\\\", \\\"Tech company carbon neutrality compliance failure\\\", \\\"Open-source software license litigation\\\"\\n\\n    # 货币政策与金融市场动荡\\n    \\\"interest rate hike\\\", \\\"quantitative tightening\\\", \\\"bond yield surge\\\", \\\"sovereign debt crisis\\\",\\n    \\\"margin call\\\", \\\"credit rating downgrade\\\", \\\"repo market freeze\\\", \\\"junk bond collapse\\\",\\n    \\\"hyperinflation\\\", \\\"stagflation\\\", \\n    \\\"crypto market systemic collapse\\\", \\\"currency war escalation\\\", \\\"capital control contagion\\\", \\n    \\\"central bank digital currency (CBDC) malfunction\\\", \\\"algorithmic stablecoin depeg\\\", \\n    \\\"global interest rate policy divergence\\\", \\\"cross-border capital flow reversal\\\", \\n    \\\"shadow banking liquidity crunch\\\", \\\"sovereign wealth fund solvency crisis\\\", \\n    \\\"emerging market currency peg collapse\\\", \\\"debt-for-equity swap backlash\\\"  # 新增5项\\n\\n    # 行业性黑天鹅事件\\n    \\\"semiconductor shortage\\\", \\\"rare earth embargo\\\", \\\"pharma trial failure\\\", \\\"EV battery recall\\\",\\n    \\\"airline bankruptcy\\\", \\\"shipping container backlog\\\", \\\"real estate bubble\\\", \\\"crypto exchange collapse\\\",\\n    \\\"AI ethics scandal\\\", \\n    \\\"quantum computing security breach\\\", \\\"autonomous vehicle system failure\\\", \\\"gene editing mishap\\\", \\n    \\\"metaverse platform collapse\\\", \\\"cloud computing outage\\\", \\\"critical mineral cartel formation\\\", \\n    \\\"biometric authentication fraud\\\", \\\"nanotechnology safety crisis\\\", \\\"space debris collision cascade\\\", \\n    \\\"agricultural drone swarm malfunction\\\", \\\"synthetic biology containment breach\\\"  # 新增5项\\n\\n    # 自然灾害与气候风险\\n    \\\"extreme weather lockdown\\\", \\\"crop failure\\\", \\\"water scarcity\\\", \\\"carbon tax riot\\\",\\n    \\\"hurricane disruption\\\", \\\"wildfire insurance crisis\\\", \\\"flood supply chain\\\", \\\"El Niño commodity shock\\\",\\n    \\\"permafrost thaw acceleration\\\", \\\"coastal city submersion\\\", \\\"carbon capture failure\\\", \\n    \\\"climate litigation surge\\\", \\\"megadrought\\\", \\\"volcanic ash supply chain collapse\\\", \\n    \\\"global coral reef collapse\\\", \\\"ozone layer recovery reversal\\\", \\\"atmospheric methane spike\\\", \\n    \\\"arctic permafrost methane release\\\", \\\"hydropower reservoir sedimentation crisis\\\"  # 新增5项\\n\\n    # 公共卫生危机\\n    \\\"pandemic resurgence\\\", \\\"vaccine side effect panic\\\", \\\"antibiotic resistance\\\", \\\"hospital overload\\\",\\n    \\\"WHO emergency alert\\\", \\\"lab leak controversy\\\", \\\"zoonotic spillover\\\",\\n    \\\"unknown pathogen outbreak\\\", \\\"mental health pandemic\\\", \\\"antiviral resistance crisis\\\", \\n    \\\"medical AI misdiagnosis wave\\\", \\\"global blood shortage\\\", \\\"vaccine nationalism escalation\\\", \\n    \\\"gene therapy adverse reaction crisis\\\", \\\"organ shortage black market surge\\\", \\n    \\\"elderly care system collapse\\\", \\\"healthcare AI liability dispute\\\", \\\"pandemic vaccine inequity riot\\\"  # 新增5项\\n\\n    # 法律与监管突变\\n    \\\"antitrust breakup\\\", \\\"data privacy fine\\\", \\\"ESG compliance crash\\\", \\\"insider trading probe\\\",\\n    \\\"IPO suspension\\\", \\\"short selling ban\\\", \\\"derivative regulation\\\", \\\"cross-border audit conflict\\\",\\n    \\\"AI governance framework clash\\\", \\\"data sovereignty dispute\\\", \\\"quantum encryption regulation\\\", \\n    \\\"ESG greenwashing crackdown\\\", \\\"AI liability law ambiguity\\\", \\\"offshore tax haven collapse\\\", \\n    \\\"cross-border data localization mandate\\\", \\\"AI facial recognition ban\\\", \\n    \\\"quantum computing IP theft crackdown\\\", \\\"blockchain smart contract litigation surge\\\", \\n    \\\"offshore financial center collapse\\\"  # 新增5项\\n\\n    # 供应链与劳动力风险\\n    \\\"port strike\\\", \\\"chip fab fire\\\", \\\"battery plant protest\\\", \\\"mineral export ban\\\",\\n    \\\"trucker shortage\\\", \\\"union wage demand\\\", \\\"cross-strait logistics freeze\\\", \\\"child labor lawsuit\\\",\\n    \\\"supply chain decoupling\\\", \\\"AI labor displacement\\\", \\\"critical skill shortage\\\", \\n    \\\"3D printing material crisis\\\", \\\"agricultural labor automation backlash\\\", \\\"cross-border labor ban\\\", \\n    \\\"cross-border robotics tariff war\\\", \\\"labour force aging crisis\\\", \\n    \\\"autonomous logistics system failure\\\", \\\"critical infrastructure staffing shortage\\\", \\n    \\\"global supply chain carbon footprint audit\\\"  # 新增5项\\n\\n    # 能源与材料危机\\n    \\\"OPEC+ production cut\\\", \\\"LNG terminal explosion\\\", \\\"uranium shortage\\\", \\\"cobalt mining ban\\\",\\n    \\\"graphite embargo\\\", \\\"lithium cartel\\\", \\\"hydrogen leak panic\\\",\\n    \\\"solar panel supply chain fracture\\\", \\\"rare earth recycling crisis\\\", \\\"critical mineral embargo\\\", \\n    \\\"nuclear waste management failure\\\", \\\"biofuel feedstock shortage\\\", \\\"hydrogen infrastructure collapse\\\", \\n    \\\"geothermal energy seismic risk\\\", \\\"uranium enrichment facility sabotage\\\", \\n    \\\"critical battery material price spike\\\", \\\"solar panel silicon shortage\\\", \\n    \\\"ocean thermal energy conflict\\\"  # 新增5项\\n\\n    # 行为金融与市场情绪\\n    \\\"panic selling\\\", \\\"FOMO crash\\\", \\\"margin debt unwind\\\", \\\"whale account liquidation\\\",\\n    \\\"dark pool manipulation\\\", \\\"gamma squeeze\\\", \\\"rumor-driven selloff\\\",\\n    \\\"social media-driven volatility\\\", \\\"AI trading algorithm meltdown\\\", \\\"central bank communication crisis\\\", \\n    \\\"currency carry trade collapse\\\", \\\"ETF liquidity crunch\\\", \\\"decentralized finance (DeFi) flash crash\\\", \\n    \\\"AI-generated market manipulation\\\", \\\"blockchain oracle data fraud\\\", \\n    \\\"central bank communication credibility crisis\\\", \\\"algorithmic trading liquidity void\\\", \\n    \\\"market sentiment sentiment analysis distortion\\\"  # 新增5项\\n\\n    # 地缘博弈升级\\n    \\\"Taiwan Strait militarization\\\", \\\"South China Sea collision\\\", \\\"Arctic resource clash\\\",\\n    \\\"Mekong River dam war\\\", \\\"Kashmir border skirmish\\\", \\\"Sudan proxy war\\\", \\\"Nagorno-Karabakh escalation\\\",\\n    \\\"Arctic shipping route control\\\", \\\"space resource claim conflict\\\", \\\"5G spectrum war\\\", \\n    \\\"cyber warfare escalation\\\", \\\"critical infrastructure sabotage\\\", \\\"global satellite navigation jamming\\\", \\n    \\\"cross-border data flow war\\\", \\\"critical mineral supply chain weaponization\\\", \\\"quantum supremacy arms race\\\", \\n    \\\"polar ice cap territorial dispute\\\", \\\"deep-sea mining conflict\\\", \\n    \\\"space debris weaponization\\\", \\\"AI military system arms race\\\"  # 新增4项（保持总数平衡）\\n]\\n\\n# 行业词库（同前）\\nindustry_terms = {\\n    # 基础材料\\n    \\\"金属采矿\\\": [\\n        \\\"Iron ore mining rights\\\", \\\"Copper concentrate processing\\\", \\\"Bauxite exploration\\\",\\n        \\\"Rare earth refining\\\", \\\"Tungsten carbide production\\\"\\n    ],\\n    \\\"工业化学品\\\": [\\n        \\\"Polyethylene synthesis\\\", \\\"Chlor-alkali production units\\\", \\\"Titanium dioxide pigments\\\",\\n        \\\"Industrial solvent purification\\\", \\\"Synthetic resin polymerization\\\"\\n    ],\\n    \\\"特种化工\\\": [\\n        \\\"Carbon fiber precursors\\\", \\\"High-purity alumina\\\", \\\"Electronic-grade hydrofluoric acid\\\",\\n        \\\"Specialty ceramic coatings\\\", \\\"Industrial gas separation\\\"\\n    ],\\n    \\\"林业与纸制品\\\": [\\n        \\\"Kraft pulp production\\\", \\\"Corrugated packaging materials\\\", \\\"FSC-certified forestry\\\",\\n        \\\"Recycled paperboard manufacturing\\\", \\\"Laminated wood panels\\\"\\n    ],\\n    \\\"化肥与农业资源\\\": [\\n        \\\"Nitrogen fertilizer synthesis\\\", \\\"Phosphate rock processing\\\", \\\"Potash mining technology\\\",\\n        \\\"Soil amendment formulations\\\", \\\"Micronutrient fertilizers\\\"\\n    ],\\n    \\\"稀土与稀有金属\\\": [\\n        \\\"Neodymium-praseodymium alloy\\\", \\\"Cobalt concentrate refining\\\", \\\"Tantalum capacitor materials\\\",\\n        \\\"Rare earth permanent magnets\\\", \\\"Tungsten carbide powder\\\"\\n    ],\\n\\n    # 能源\\n    \\\"石油勘探\\\": [\\n        \\\"Shale gas fracking\\\", \\\"Offshore drilling rigs\\\", \\\"Reservoir simulation software\\\",\\n        \\\"Seismic imaging technology\\\", \\\"Oil sands extraction\\\"\\n    ],\\n    \\\"炼油与分销\\\": [\\n        \\\"Catalytic cracking units\\\", \\\"Gasoline blending optimization\\\", \\\"Pipeline corrosion monitoring\\\",\\n        \\\"Bunker fuel specifications\\\", \\\"Jet fuel additives\\\"\\n    ],\\n    \\\"油气服务\\\": [\\n        \\\"Hydraulic fracturing pumps\\\", \\\"Subsea Christmas trees\\\", \\\"Drilling mud systems\\\",\\n        \\\"Oilfield cementing services\\\", \\\"Pipeline integrity management\\\"\\n    ],\\n    \\\"液化天然气\\\": [\\n        \\\"Floating storage regasification\\\", \\\"Cryogenic tank insulation\\\", \\\"Boil-off gas recovery\\\",\\n        \\\"Small-scale LNG terminals\\\", \\\"Bunkering infrastructure\\\"\\n    ],\\n    \\\"太阳能设备\\\": [\\n        \\\"PERC solar cells\\\", \\\"Bifacial module technology\\\", \\\"Solar tracking algorithms\\\",\\n        \\\"Anti-reflective coatings\\\", \\\"PV inverter efficiency\\\"\\n    ],\\n    \\\"风能开发\\\": [\\n        \\\"Offshore wind turbine foundations\\\", \\\"Blade pitch control systems\\\", \\\"Nacelle yaw mechanisms\\\",\\n        \\\"Grid connection converters\\\", \\\"Wind resource assessment\\\"\\n    ],\\n    \\\"氢能源技术\\\": [\\n        \\\"Proton exchange membrane electrolyzers\\\", \\\"Hydrogen compression stations\\\", \\\"Fuel cell stacks\\\",\\n        \\\"Ammonia cracking reactors\\\", \\\"Hydrogen refueling protocols\\\"\\n    ],\\n    \\\"生物燃料\\\": [\\n        \\\"Algae biofuel cultivation\\\", \\\"Cellulosic ethanol fermentation\\\", \\\"Biodiesel transesterification\\\",\\n        \\\"Pyrolysis oil upgrading\\\", \\\"Anaerobic digestion plants\\\"\\n    ],\\n\\n    # 工业\\n    \\\"航空航天\\\": [\\n        \\\"Composite fuselage manufacturing\\\", \\\"Turbofan engine blades\\\", \\\"Satellite attitude control\\\",\\n        \\\"Radar-absorbing materials\\\", \\\"Aircraft maintenance MRO\\\"\\n    ],\\n    \\\"铁路设备\\\": [\\n        \\\"Bogie frame casting\\\", \\\"Pantograph current collection\\\", \\\"Axle load monitoring\\\",\\n        \\\"Container intermodal systems\\\", \\\"Railway signaling ETCS\\\"\\n    ],\\n    \\\"工业机械\\\": [\\n        \\\"CNC machining centers\\\", \\\"Industrial robot end-effectors\\\", \\\"Hydraulic press automation\\\",\\n        \\\"Laser cutting optics\\\", \\\"Additive manufacturing powders\\\"\\n    ],\\n    \\\"建筑工程\\\": [\\n        \\\"BIM coordination software\\\", \\\"Prefabricated concrete elements\\\", \\\"Geotechnical instrumentation\\\",\\n        \\\"Construction waste recycling\\\", \\\"Smart building IoT\\\"\\n    ],\\n    \\\"电气设备\\\": [\\n        \\\"Transformer core lamination\\\", \\\"Smart grid sensors\\\", \\\"High-voltage circuit breakers\\\",\\n        \\\"Energy storage BMS\\\", \\\"Wireless power transfer\\\"\\n    ],\\n    \\\"物流与货运\\\": [\\n        \\\"Cross-docking optimization\\\", \\\"Cold chain logistics\\\", \\\"Autonomous warehouse robots\\\",\\n        \\\"Freight rate benchmarking\\\", \\\"Last-mile delivery drones\\\"\\n    ],\\n    \\\"无人机技术\\\": [\\n        \\\"Multispectral crop imaging\\\", \\\"LiDAR terrain mapping\\\", \\\"Swarm coordination algorithms\\\",\\n        \\\"BVLOS operations\\\", \\\"Payload release mechanisms\\\"\\n    ],\\n    \\\"3D打印技术\\\": [\\n        \\\"Selective laser sintering\\\", \\\"Digital light processing\\\", \\\"Binder jetting systems\\\",\\n        \\\"Topology optimization software\\\", \\\"Post-processing finishing\\\"\\n    ],\\n\\n    # 金融\\n    \\\"商业银行\\\": [\\n        \\\"Collateralized loan obligations\\\", \\\"Basel III compliance\\\", \\\"Cross-border payment rails\\\",\\n        \\\"Digital onboarding platforms\\\", \\\"Credit risk scoring models\\\"\\n    ],\\n    \\\"投资银行\\\": [\\n        \\\"SPAC merger advisory\\\", \\\"Algorithmic trading engines\\\", \\\"Dark pool liquidity\\\",\\n        \\\"ESG bond underwriting\\\", \\\"Prime brokerage services\\\"\\n    ],\\n    \\\"保险服务\\\": [\\n        \\\"Actuarial mortality tables\\\", \\\"Catastrophe bond issuance\\\", \\\"Telematics-based pricing\\\",\\n        \\\"Parametric insurance triggers\\\", \\\"Blockchain claims processing\\\"\\n    ],\\n    \\\"资产管理\\\": [\\n        \\\"Smart beta ETFs\\\", \\\"Private equity co-investment\\\", \\\"Quantamental strategies\\\",\\n        \\\"FX hedging overlays\\\", \\\"Liquidity stress testing\\\"\\n    ],\\n    \\\"金融科技\\\": [\\n        \\\"Central bank digital currency\\\", \\\"DeFi yield farming\\\", \\\"Cross-chain atomic swaps\\\",\\n        \\\"Contactless payment terminals\\\", \\\"AI fraud detection\\\"\\n    ],\\n    \\\"消费信贷\\\": [\\n        \\\"Buy now pay later (BNPL)\\\", \\\"Credit line management\\\", \\\"Alternative credit scoring\\\",\\n        \\\"Debt consolidation loans\\\", \\\"Dynamic credit limits\\\"\\n    ],\\n    \\\"房地产信托\\\": [\\n        \\\"Net lease agreements\\\", \\\"Capitalization rate analysis\\\", \\\"Tenant improvement allowances\\\",\\n        \\\"Green building certifications\\\", \\\"REIT dividend yield\\\"\\n    ],\\n\\n    # 信息技术\\n    \\\"半导体\\\": [\\n        \\\"Wafer fabrication\\\", \\\"EDA software\\\", \\\"Advanced packaging\\\", \\\"Photolithography systems\\\",\\n        \\\"Chiplet technology\\\"\\n    ],\\n    \\\"云计算\\\": [\\n        \\\"Hybrid cloud solutions\\\", \\\"Serverless computing\\\", \\\"Edge computing nodes\\\",\\n        \\\"Cloud security protocols\\\", \\\"Multi-cloud management\\\"\\n    ],\\n    \\\"人工智能\\\": [\\n        \\\"Neural network training\\\", \\\"Natural language processing (NLP)\\\", \\\"Computer vision algorithms\\\",\\n        \\\"Reinforcement learning frameworks\\\", \\\"AI ethics compliance\\\"\\n    ],\\n    \\\"网络安全\\\": [\\n        \\\"Zero-trust architecture\\\", \\\"Endpoint detection and response (EDR)\\\", \\\"Threat intelligence platforms\\\",\\n        \\\"Penetration testing tools\\\", \\\"Quantum encryption\\\"\\n    ],\\n    \\\"企业软件\\\": [\\n        \\\"ERP system integration\\\", \\\"CRM automation\\\", \\\"Low-code development platforms\\\",\\n        \\\"Business intelligence dashboards\\\", \\\"SaaS subscription models\\\"\\n    ],\\n    \\\"5G通信\\\": [\\n        \\\"Massive MIMO antennas\\\", \\\"Network slicing configurations\\\", \\\"mmWave spectrum allocation\\\",\\n        \\\"Open RAN architecture\\\", \\\"5G core networks\\\"\\n    ],\\n    \\\"量子计算\\\": [\\n        \\\"Qubit stabilization\\\", \\\"Quantum error correction\\\", \\\"Quantum annealing systems\\\",\\n        \\\"Photonic quantum chips\\\", \\\"Quantum algorithm development\\\"\\n    ],\\n    \\\"光电子技术\\\": [\\n        \\\"Optical transceivers\\\", \\\"LiDAR sensors\\\", \\\"Photovoltaic cells\\\", \\\"Fiber Bragg gratings\\\",\\n        \\\"Optoelectronic integrated circuits\\\"\\n    ]\\n}\\n\\nclass RiskAnalyzer:\\n    def __init__(self, risk_terms):\\n        self.risk_index = faiss.IndexFlatIP(384)\\n        self._build_risk_index(risk_terms)\\n        \\n    def _build_risk_index(self, terms):\\n        embeddings = semantic_model.encode(terms, convert_to_numpy=True)\\n        faiss.normalize_L2(embeddings)\\n        self.risk_index.add(embeddings)\\n        self.risk_terms = terms\\n        \\n    @lru_cache(maxsize=1000)\\n    def analyze(self, text, keyword_threshold=0.6, top_n=5):\\n        # 精确匹配\\n        exact_matches = [term for term in self.risk_terms \\n                        if re.search(rf'\\\\b{re.escape(term)}\\\\b', text, re.I)]\\n        \\n        # 语义匹配\\n        query_emb = semantic_model.encode([text], convert_to_numpy=True)\\n        faiss.normalize_L2(query_emb)\\n        _, indices = self.risk_index.search(query_emb, top_n)\\n        semantic_matches = [self.risk_terms[i] for i in indices[0]]\\n        \\n        # 准备风险提示模板\\n        risk_templates = [\\n            \\\"监测到'{match}'相关风险，可能对市场造成冲击。\\\",\\n            \\\"请注意，'{match}'可能引发行业波动，建议谨慎评估。\\\",\\n            \\\"风险提示：'{match}'或导致投资环境变化，请保持关注。\\\",\\n            \\\"检测到潜在风险因素'{match}'，可能影响相关资产表现。\\\",\\n            \\\"市场风险预警：'{match}'可能带来不确定性。\\\",\\n            \\\"投资者需警惕'{match}'的潜在负面影响。\\\",\\n            \\\"行业观察：'{match}'风险升高，建议调整策略。\\\",\\n            \\\"重要风险提示：'{match}'可能成为市场变数。\\\"\\n        ]\\n        \\n        # 去重并生成多样化提示\\n        matches = list(set(exact_matches + semantic_matches))\\n        random.shuffle(risk_templates)  # 随机打乱模板顺序\\n        \\n        enriched_matches = []\\n        for i, match in enumerate(matches[:top_n]):\\n            template = risk_templates[i % len(risk_templates)]\\n            enriched_matches.append(template.format(match=match))\\n        \\n        return enriched_matches[:top_n]\\n\\nclass IndustryMatcher:\\n    def __init__(self, industry_terms, semantic_threshold=0.65):\\n        self.industry_terms = industry_terms\\n        self.threshold = semantic_threshold\\n        self._precompute_embeddings()\\n        \\n    def _precompute_embeddings(self):\\n        self.industry_descs = {\\n            ind: ' '.join(terms) for ind, terms in self.industry_terms.items()\\n        }\\n        embeddings = semantic_model.encode(list(self.industry_descs.values()), \\n                                         convert_to_numpy=True)\\n        self.index = faiss.IndexFlatIP(embeddings.shape[1])\\n        faiss.normalize_L2(embeddings)\\n        self.index.add(embeddings)\\n        self.industry_list = list(self.industry_descs.keys())\\n    \\n    def _keyword_match(self, entities):\\n        scores = defaultdict(int)\\n        for entity, ent_type in entities:\\n            if ent_type not in ['ORG', 'PRODUCT', 'LOC']: \\n                continue\\n            for industry, terms in self.industry_terms.items():\\n                if any(entity in term for term in terms):\\n                    scores[industry] += 1\\n        return scores\\n    \\n    def match(self, text, entities, top_n=3):\\n        # 关键词匹配\\n        keyword_scores = self._keyword_match(entities)\\n        if keyword_scores:\\n            sorted_industries = sorted(keyword_scores.items(), \\n                                      key=lambda x: x[1], reverse=True)\\n            industries = [ind for ind, _ in sorted_industries[:top_n]]\\n        else:\\n            query_emb = semantic_model.encode([text], convert_to_numpy=True)\\n            faiss.normalize_L2(query_emb)\\n            _, indices = self.index.search(query_emb, top_n)\\n            industries = [self.industry_list[i] for i in indices[0]]\\n        \\n        # 准备行业推荐模板\\n        industry_templates = [\\n            \\\"推荐关注行业：'{industry}'，近期发展潜力较大。\\\",\\n            \\\"行业动态：'{industry}'领域或存在投资机会。\\\",\\n            \\\"建议重点关注'{industry}'行业的市场动向。\\\",\\n            \\\"投资机会：'{industry}'领域可能迎来增长期。\\\",\\n            \\\"行业分析：'{industry}'具备较高的关注价值。\\\",\\n            \\\"'{industry}'行业前景广阔，建议纳入观察列表。\\\",\\n            \\\"市场趋势显示，'{industry}'行业值得投资者留意。\\\",\\n            \\\"关注领域推荐：'{industry}'或成为下一热点。\\\"\\n        ]\\n        \\n        # 生成多样化推荐语\\n        random.shuffle(industry_templates)  # 随机打乱模板顺序\\n        enriched_industries = []\\n        for i, industry in enumerate(industries[:top_n]):\\n            template = industry_templates[i % len(industry_templates)]\\n            enriched_industries.append(template.format(industry=industry))\\n        \\n        return enriched_industries\\ndef generate_report(text, risk_top_n=5, industry_top_n=3):\\n    \\\"\\\"\\\"综合报告生成（更新版）\\\"\\\"\\\"\\n    # 风险分析\\n    risk_analyzer = RiskAnalyzer(risk_terms)\\n    risks = risk_analyzer.analyze(text, top_n=risk_top_n)\\n    \\n    # 行业匹配\\n    entities = extract_entities(text)\\n    industry_matcher = IndustryMatcher(industry_terms)\\n    industries = industry_matcher.match(text, entities, top_n=industry_top_n)\\n    \\n    # 报告生成（增强版）\\n    risk_header = random.choice([\\n        \\\"【风险预警雷达】检测到以下投资风险因素：\\\",\\n        \\\"【风险扫描报告】发现潜在风险指标：\\\",\\n        \\\"【风控提示】需要关注的风险信号：\\\",\\n        \\\"【风险扫描结果】识别到以下风险要素：\\\"\\n    ])\\n    \\n    industry_header = random.choice([\\n        \\\"【行业机遇发现】推荐关注领域：\\\",\\n        \\\"【投资机会扫描】潜在机会行业：\\\",\\n        \\\"【行业趋势洞察】建议关注方向：\\\",\\n        \\\"【板块机会提示】值得留意领域：\\\"\\n    ])\\n    \\n    risk_part = f\\\"{risk_header}\\\\n\\\" + (\\n        \\\"\\\\n\\\".join(risks) if risks \\n        else \\\"▶ 当前文本未检测到显著风险因素\\\"\\n    )\\n    \\n    industry_part = f\\\"\\\\n\\\\n{industry_header}\\\\n\\\" + (\\n        \\\"\\\\n\\\".join(industries) if industries \\n        else \\\"▶ 当前文本未匹配到特定行业\\\"\\n    )\\n    \\n    return f\\\"{risk_part}{industry_part}\\\"\\n\\n\",\"metadata\":{\"trusted\":true,\"execution\":{\"iopub.status.busy\":\"2025-03-27T11:28:03.288019Z\",\"iopub.execute_input\":\"2025-03-27T11:28:03.288432Z\",\"iopub.status.idle\":\"2025-03-27T11:28:05.837399Z\",\"shell.execute_reply.started\":\"2025-03-27T11:28:03.288396Z\",\"shell.execute_reply\":\"2025-03-27T11:28:05.836139Z\"}},\"outputs\":[],\"execution_count\":null},{\"cell_type\":\"markdown\",\"source\":\"## test代码\",\"metadata\":{}},{\"cell_type\":\"code\",\"source\":\"from Generate_model import generate_report\\n\\n# 示例文本\\ntest_up=\\\"\\\"\\\"\\\"Dow Soars 500 Points as Tech Giants Report Record Profits Ahead of Earnings Season.Fed Announces Unexpected Rate Cut, Sending Wall Street into Bullish Rally.Apple Unveils Revolutionary New iPhone, Sending Tech Stocks Skyrocketing.Oil Prices Plunge 10% Amid OPEC Supply Deal Collapse, Boosting Consumer Sentiment.Healthcare Sector Surges After FDA Approves Breakthrough Cancer Drug.Tesla Stock Jumps 20% on Rumors of New China Manufacturing Deal.\\nWall Street Celebrates as Trade War With China Suddenly Halts, Tariffs Rolled Back.Goldman Sachs Reports Triple Quarterly Earnings, Sparking Financial Sector Rally.U.S. Unemployment Drops to 3.5%, Igniting Optimism in Retail and Consumer Stocks.Amazon Announces $10 Billion Green Energy Investment, Green Tech Stocks Surge.Pharma Giant Pfizer Secures Global Vaccine Patent, Shares Leap 15%.Bitcoin Surges Past $100K Amid Institutional Adoption Surge, Crypto Stocks Follow.\\nBoeing Receives $15 Billion Defense Contract, Aerospace Sector Soars.Retailers Report Holiday Sales Boom, Wal-Mart and Target Shares Hit Record Highs.Federal Infrastructure Bill Passes Congress, Boosting Construction and Steel Stocks.European Central Bank Signals Support for Dollar, Strengthening U.S. Exporters.FAANG Stocks Rally 8% as Analysts Upgrade Growth Forecasts for 2024.Tesla Opens World’s Largest Battery Plant, Shares Climb to Uncharted Heights.\\nConsumer Confidence Index Hits 15-Year High, Driving Auto and Travel Stocks.\\nOil Majors Announce $50 Billion Dividend Boosts, Energy Sector Roars Back.Microsoft Acquires AI Startup for $20 Billion, Tech Sector Cheers Innovation.FDA Approves First Alzheimer’s Drug, Biotech Stocks Rally Across the Board.Fed Chair Signals Pause in Rate Hikes, Bond Yields Drop and Stocks Soar.Apple Pay Launches in India, Sending Global Payment Stocks into Overdrive.U.S. GDP Growth Revised Upward to 4%, Marking Strongest Quarter Since 2008\\\"\\\"\\\"\\n\\ntest_down=\\\"\\\"\\\"The Dow plunges 800 points as tech giants report disappointing earnings ahead of season. The Fed signals a rate hike surprise, triggering a market sell-off. Apple faces a data breach crisis, shares collapse 12%. Oil prices surge 15% after OPEC+ cuts supply, consumer stocks plunge. The FDA halts clinical trials for a leading cancer drug, biotech sector tanks. Tesla warns of production delays, stock drops 25% on supply chain woes. \\nTrade war escalates as China imposes new tariffs, global markets reel. Goldman Sachs reports a $2 billion loss, financial stocks dive. U.S. unemployment jumps to 6.5%, retail stocks plunge on weak consumer data. Amazon faces an antitrust lawsuit, shares drop 18% amid regulatory crackdown. Pfizer loses a patent battle, shares plunge as generic competitors enter the market. Bitcoin plummets 30% after a major exchange hack, crypto stocks crash.\\nBoeing delays 787 Dreamliner delivery, aerospace stocks collapse. Retailers report a holiday sales slump, Wal-Mart and Target shares hit 52-week lows. The infrastructure bill fails in Congress, construction stocks plunge. The ECB raises rates, weakening the dollar and harming U.S. exports. FAANG stocks crash 15% as analysts slash growth forecasts. Tesla shuts a Gigafactory over safety issues, shares plunge to an 18-month low.\\nConsumer confidence drops to a 10-year low, auto stocks collapse. Oil majors cut dividends amid price volatility, the energy sector tanks. \\nMicrosoft loses a major cloud contract, tech stocks slide. The FDA rejects an Alzheimer’s drug, the biotech sector plunges 10%. The Fed chair signals more rate hikes, bond yields spike and stocks plunge. Apple Pay faces a regulatory ban in India, payment stocks plummet. U.S. GDP growth is revised down to 1.2%, the worst quarter since 2009.\\\"\\\"\\\"\\n\\ntest_Xiaomi=\\\"\\\"\\\"Xiaomi EV Crash in Beijing Sparks Safety Concerns: Investigation Underway. High-Profile Collision Involving Xiaomi's New EV Model Raises Questions on Autonomous Driving Tech. First Reported Xiaomi SU7 Accident Triggers Calls for Regulatory Scrutiny on Emerging EV Brands.\\\"\\\"\\\"\\n\\n# 分别处理3个示例文本\\nprint(\\\"处理 test_up 的结果:\\\")\\noutput_up = generate_report(test_up)\\nprint(output_up)\\n\\nprint(\\\"\\\\n处理 test_down 的结果:\\\")\\noutput_down = generate_report(test_down)\\nprint(output_down)\\n\\nprint(\\\"\\\\n处理 test_Xiaomi 的结果:\\\")\\noutput_down = generate_report(test_Xiaomi)\\nprint(output_down)\",\"metadata\":{\"trusted\":true},\"outputs\":[],\"execution_count\":null}]}    0\n",
            "dtype: int64\n",
            "Duplicate rows: 0\n"
          ]
        }
      ],
      "source": [
        "# Check for missing values\n",
        "print(df.isnull().sum())\n",
        "# Check for duplicates\n",
        "print(\"Duplicate rows:\", df.duplicated().sum())"
      ]
    },
    {
      "cell_type": "markdown",
      "metadata": {
        "id": "WdSQ0znK31gO"
      },
      "source": [
        "Visualize a Few Features"
      ]
    },
    {
      "cell_type": "code",
      "execution_count": null,
      "metadata": {
        "colab": {
          "base_uri": "https://localhost:8080/",
          "height": 607
        },
        "id": "DkbudnZ63-k5",
        "outputId": "20b0d06f-977b-44fd-ae50-f01398758e67"
      },
      "outputs": [
        {
          "data": {
            "image/png": "[encoded data removed]",
            "text/plain": [
              "<Figure size 1200x600 with 2 Axes>"
            ]
          },
          "metadata": {},
          "output_type": "display_data"
        }
      ],
      "source": [
        "import matplotlib.pyplot as plt\n",
        "import seaborn as sns\n",
        "import pandas as pd\n",
        "from sklearn.datasets import load_iris\n",
        "\n",
        "# Load a sample dataset\n",
        "iris = load_iris()\n",
        "df = pd.DataFrame(data=iris.data, columns=iris.feature_names)\n",
        "df['species'] = iris.target\n",
        "\n",
        "# Visualize a few features\n",
        "plt.figure(figsize=(12, 6))\n",
        "\n",
        "# Subplot 1: Sepal Length Distribution\n",
        "plt.subplot(1, 2, 1)\n",
        "sns.histplot(df[iris.feature_names[0]], kde=True, color='skyblue')\n",
        "plt.title('Sepal Length Distribution')\n",
        "\n",
        "# Subplot 2: Petal Length vs Petal Width\n",
        "plt.subplot(1, 2, 2)\n",
        "sns.scatterplot(x=iris.feature_names[2], y=iris.feature_names[3], hue='species', data=df)\n",
        "plt.title('Petal Length vs Width')\n",
        "\n",
        "plt.tight_layout()\n",
        "plt.show()\n"
      ]
    },
    {
      "cell_type": "markdown",
      "metadata": {
        "id": "0Eavs4DT4OXS"
      },
      "source": [
        "Identify Target and Features"
      ]
    },
    {
      "cell_type": "code",
      "execution_count": null,
      "metadata": {
        "id": "BdfN356b4Pp4"
      },
      "outputs": [],
      "source": [
        "import yfinance as yf\n",
        "import pandas as pd\n",
        "import numpy as np\n",
        "import matplotlib.pyplot as plt\n",
        "\n",
        "# Fetch the stock data using Yahoo Finance (you can replace 'AAPL' with any stock ticker)\n",
        "stock_ticker = 'AAPL'  # Apple as an example\n",
        "start_date = '2020-01-01'\n",
        "end_date = '2025-01-01'\n",
        "\n",
        "# Download stock data from Yahoo Finance\n",
        "stock_data = yf.download(stock_ticker, start=start_date, end=end_date)\n",
        "\n",
        "# Display the first few rows of the stock data\n",
        "print(stock_data.head())\n",
        "\n",
        "# --- Feature Engineering ---\n",
        "\n",
        "# 1. Calculate Daily Returns (percentage change)\n",
        "stock_data['Daily_Return'] = stock_data['Close'].pct_change()\n",
        "\n",
        "# 2. Moving Averages (50-day and 200-day)\n",
        "stock_data['50_MA'] = stock_data['Close'].rolling(window=50).mean()\n",
        "stock_data['200_MA'] = stock_data['Close'].rolling(window=200).mean()\n",
        "\n",
        "# 3. Volatility (Rolling standard deviation)\n",
        "stock_data['Volatility'] = stock_data['Close'].rolling(window=50).std()\n",
        "\n",
        "# 4. Trading Volume (can be used as a feature)\n",
        "stock_data['Volume'] = stock_data['Volume']\n",
        "\n",
        "# 5. Lag Features (Previous day's closing price, etc.)\n",
        "stock_data['Prev_Close'] = stock_data['Close'].shift(1)\n",
        "\n",
        "# 6. Lag Returns (Previous day's returns)\n",
        "stock_data['Prev_Return'] = stock_data['Daily_Return'].shift(1)\n",
        "\n",
        "# --- Define Target Variable ---\n",
        "# Predicting the next day's closing price\n",
        "stock_data['Target'] = stock_data['Close'].shift(-1)\n",
        "\n",
        "# Drop rows with missing values (e.g., from shifting data)\n",
        "stock_data.dropna(inplace=True)\n",
        "\n",
        "# Display the first few rows of the dataset with new features\n",
        "print(stock_data.head())\n",
        "\n",
        "# --- Visualizations (Optional) ---\n",
        "# Visualizing the features like moving averages and closing price\n",
        "plt.figure(figsize=(12, 6))\n",
        "plt.plot(stock_data['Close'], label='Stock Price (Close)', color='blue', linewidth=1)\n",
        "plt.plot(stock_data['50_MA'], label='50-day Moving Average', color='orange', linestyle='--')\n",
        "plt.plot(stock_data['200_MA'], label='200-day Moving Average', color='green', linestyle='--')\n",
        "plt.title(f\"{stock_ticker} Stock Price and Moving Averages\")\n",
        "plt.xlabel('Date')\n",
        "plt.ylabel('Price ($)')\n",
        "plt.legend(loc='best')\n",
        "plt.grid(True)\n",
        "plt.show()\n",
        "\n",
        "# Visualizing the stock volatility\n",
        "plt.figure(figsize=(12, 6))\n",
        "plt.plot(stock_data['Volatility'], label='50-day Rolling Volatility', color='red')\n",
        "plt.title(f\"{stock_ticker} Volatility (50-day Rolling Std Dev)\")\n",
        "plt.xlabel('Date')\n",
        "plt.ylabel('Volatility')\n",
        "plt.legend(loc='best')\n",
        "plt.grid(True)\n",
        "plt.show()\n",
        "\n",
        "# --- Conclusion ---\n",
        "# The target is the 'Target' column, which represents the next day's closing price.\n",
        "# The features include:\n",
        "# - Daily returns\n",
        "# - Moving averages (50-day and 200-day)\n",
        "# - Volatility (50-day rolling standard deviation)\n",
        "# - Trading volume\n",
        "# - Lag features (previous day's close and return)"
      ]
    },
    {
      "cell_type": "markdown",
      "metadata": {
        "id": "FXJA5q5s7-M2"
      },
      "source": [
        "Convert Categorical Columns to Numerical"
      ]
    },
    {
      "cell_type": "code",
      "execution_count": null,
      "metadata": {
        "colab": {
          "base_uri": "https://localhost:8080/"
        },
        "id": "YqyJqpdI8DNl",
        "outputId": "4845335c-5e43-4463-ad25-298c9e9f5e63"
      },
      "outputs": [
        {
          "name": "stdout",
          "output_type": "stream",
          "text": [
            "YF.download() has changed argument auto_adjust default to True\n"
          ]
        },
        {
          "name": "stderr",
          "output_type": "stream",
          "text": [
            "\r[*********************100%***********************]  1 of 1 completed\n",
            "ERROR:yfinance:\n",
            "1 Failed download:\n",
            "ERROR:yfinance:['AAPL']: YFRateLimitError('Too Many Requests. Rate limited. Try after a while.')\n"
          ]
        },
        {
          "name": "stdout",
          "output_type": "stream",
          "text": [
            "Original Data with Categorical 'Sector':\n",
            "Price  Adj Close Close High  Low Open Volume  Sector\n",
            "Ticker      AAPL  AAPL AAPL AAPL AAPL   AAPL        \n",
            "Date                                                \n",
            "0            NaN   NaN  NaN  NaN  NaN    NaN    Tech\n",
            "1            NaN   NaN  NaN  NaN  NaN    NaN    Tech\n",
            "2            NaN   NaN  NaN  NaN  NaN    NaN  Health\n",
            "3            NaN   NaN  NaN  NaN  NaN    NaN    Tech\n",
            "4            NaN   NaN  NaN  NaN  NaN    NaN  Health\n",
            "\n",
            "After Label Encoding 'Sector':\n",
            "Price   Sector Sector_Label\n",
            "Ticker                     \n",
            "Date                       \n",
            "0         Tech            2\n",
            "1         Tech            2\n",
            "2       Health            1\n",
            "3         Tech            2\n",
            "4       Health            1\n",
            "\n",
            "After One-Hot Encoding 'Sector':\n",
            "      (Adj Close, AAPL)  (Close, AAPL)  (High, AAPL)  (Low, AAPL)  \\\n",
            "Date                                                                \n",
            "0                   NaN            NaN           NaN          NaN   \n",
            "1                   NaN            NaN           NaN          NaN   \n",
            "2                   NaN            NaN           NaN          NaN   \n",
            "3                   NaN            NaN           NaN          NaN   \n",
            "4                   NaN            NaN           NaN          NaN   \n",
            "\n",
            "      (Open, AAPL)  (Volume, AAPL)  (Sector_Label, )  ('Sector', '')_Finance  \\\n",
            "Date                                                                           \n",
            "0              NaN             NaN                 2                   False   \n",
            "1              NaN             NaN                 2                   False   \n",
            "2              NaN             NaN                 1                   False   \n",
            "3              NaN             NaN                 2                   False   \n",
            "4              NaN             NaN                 1                   False   \n",
            "\n",
            "      ('Sector', '')_Health  ('Sector', '')_Tech  \n",
            "Date                                              \n",
            "0                     False                 True  \n",
            "1                     False                 True  \n",
            "2                      True                False  \n",
            "3                     False                 True  \n",
            "4                      True                False  \n"
          ]
        }
      ],
      "source": [
        "import pandas as pd\n",
        "import yfinance as yf\n",
        "from sklearn.preprocessing import LabelEncoder\n",
        "\n",
        "# Fetch the stock data using Yahoo Finance (you can replace 'AAPL' with any stock ticker)\n",
        "stock_ticker = 'AAPL'  # Apple as an example\n",
        "start_date = '2020-01-01'\n",
        "end_date = '2025-01-01'\n",
        "\n",
        "# Download stock data from Yahoo Finance\n",
        "stock_data = yf.download(stock_ticker, start=start_date, end=end_date)\n",
        "\n",
        "# Suppose we have some categorical data like 'Sector' or 'Market' (for illustration)\n",
        "# For the sake of the example, let's create a mock 'Sector' column\n",
        "# In real scenarios, you'd have such columns in your dataset.\n",
        "stock_data['Sector'] = ['Tech', 'Tech', 'Health', 'Tech', 'Health', 'Finance', 'Tech', 'Finance', 'Health', 'Tech']\n",
        "\n",
        "# Display the first few rows of the stock data with 'Sector' column\n",
        "print(\"Original Data with Categorical 'Sector':\")\n",
        "print(stock_data.head())\n",
        "\n",
        "# --- 1. Label Encoding: Converting 'Sector' to numerical labels ---\n",
        "label_encoder = LabelEncoder()\n",
        "\n",
        "# Apply label encoding on the 'Sector' column\n",
        "stock_data['Sector_Label'] = label_encoder.fit_transform(stock_data['Sector'])\n",
        "\n",
        "# Display the updated DataFrame with Label Encoded column\n",
        "print(\"\\nAfter Label Encoding 'Sector':\")\n",
        "print(stock_data[['Sector', 'Sector_Label']].head())\n",
        "\n",
        "# --- 2. One-Hot Encoding: Creating binary columns for each category in 'Sector' ---\n",
        "stock_data_encoded = pd.get_dummies(stock_data, columns=['Sector'], drop_first=False)\n",
        "\n",
        "# Display the updated DataFrame with One-Hot Encoded columns\n",
        "print(\"\\nAfter One-Hot Encoding 'Sector':\")\n",
        "print(stock_data_encoded.head())\n"
      ]
    },
    {
      "cell_type": "markdown",
      "metadata": {
        "id": "aH6EGGjB8OuT"
      },
      "source": [
        "One-Hot Encoding"
      ]
    },
    {
      "cell_type": "code",
      "execution_count": null,
      "metadata": {
        "colab": {
          "base_uri": "https://localhost:8080/"
        },
        "id": "JTIyvavf8T9e",
        "outputId": "630e9b67-d1d0-40f3-a418-397976479e86"
      },
      "outputs": [
        {
          "name": "stderr",
          "output_type": "stream",
          "text": [
            "\r[*********************100%***********************]  1 of 1 completed\n",
            "ERROR:yfinance:\n",
            "1 Failed download:\n",
            "ERROR:yfinance:['AAPL']: YFRateLimitError('Too Many Requests. Rate limited. Try after a while.')\n"
          ]
        },
        {
          "name": "stdout",
          "output_type": "stream",
          "text": [
            "Original Data with Categorical Columns:\n",
            "Price  Adj Close Close High  Low Open Volume  Sector Stock Ticker\n",
            "Ticker      AAPL  AAPL AAPL AAPL AAPL   AAPL                     \n",
            "Date                                                             \n",
            "0            NaN   NaN  NaN  NaN  NaN    NaN    Tech         AAPL\n",
            "1            NaN   NaN  NaN  NaN  NaN    NaN    Tech         AAPL\n",
            "2            NaN   NaN  NaN  NaN  NaN    NaN  Health         AAPL\n",
            "3            NaN   NaN  NaN  NaN  NaN    NaN    Tech         AAPL\n",
            "4            NaN   NaN  NaN  NaN  NaN    NaN  Health         AAPL\n",
            "\n",
            "Data After One-Hot Encoding:\n",
            "      (Adj Close, AAPL)  (Close, AAPL)  (High, AAPL)  (Low, AAPL)  \\\n",
            "Date                                                                \n",
            "0                   NaN            NaN           NaN          NaN   \n",
            "1                   NaN            NaN           NaN          NaN   \n",
            "2                   NaN            NaN           NaN          NaN   \n",
            "3                   NaN            NaN           NaN          NaN   \n",
            "4                   NaN            NaN           NaN          NaN   \n",
            "\n",
            "      (Open, AAPL)  (Volume, AAPL)  ('Sector', '')_Finance  \\\n",
            "Date                                                         \n",
            "0              NaN             NaN                   False   \n",
            "1              NaN             NaN                   False   \n",
            "2              NaN             NaN                   False   \n",
            "3              NaN             NaN                   False   \n",
            "4              NaN             NaN                   False   \n",
            "\n",
            "      ('Sector', '')_Health  ('Sector', '')_Tech  ('Stock Ticker', '')_AAPL  \n",
            "Date                                                                         \n",
            "0                     False                 True                       True  \n",
            "1                     False                 True                       True  \n",
            "2                      True                False                       True  \n",
            "3                     False                 True                       True  \n",
            "4                      True                False                       True  \n"
          ]
        }
      ],
      "source": [
        "import pandas as pd\n",
        "import yfinance as yf\n",
        "\n",
        "# Fetch stock data using Yahoo Finance (you can replace 'AAPL' with any stock ticker)\n",
        "stock_ticker = 'AAPL'  # Example: Apple\n",
        "start_date = '2020-01-01'\n",
        "end_date = '2025-01-01'\n",
        "\n",
        "# Download stock data from Yahoo Finance\n",
        "stock_data = yf.download(stock_ticker, start=start_date, end=end_date)\n",
        "\n",
        "# For the sake of this example, let's assume 'Sector' is a column that contains categorical data\n",
        "# We'll mock this data for illustration purposes\n",
        "# In practice, you might get this from another source or API.\n",
        "stock_data['Sector'] = ['Tech', 'Tech', 'Health', 'Tech', 'Health', 'Finance', 'Tech', 'Finance', 'Health', 'Tech']\n",
        "\n",
        "# Let's assume you also have 'Stock Ticker' as a categorical column\n",
        "stock_data['Stock Ticker'] = stock_ticker  # In this example, it's just 'AAPL'\n",
        "\n",
        "# Display original stock data\n",
        "print(\"Original Data with Categorical Columns:\")\n",
        "print(stock_data.head())\n",
        "\n",
        "# --- One-Hot Encoding: Creating binary columns for each category ---\n",
        "# Using pd.get_dummies to perform one-hot encoding on the 'Sector' and 'Stock Ticker' columns\n",
        "stock_data_encoded = pd.get_dummies(stock_data, columns=['Sector', 'Stock Ticker'], drop_first=False)\n",
        "\n",
        "# Display the DataFrame after one-hot encoding\n",
        "print(\"\\nData After One-Hot Encoding:\")\n",
        "print(stock_data_encoded.head())\n"
      ]
    },
    {
      "cell_type": "markdown",
      "metadata": {
        "id": "-8e-YlEl8Z-8"
      },
      "source": [
        "Feature Scaling"
      ]
    },
    {
      "cell_type": "code",
      "execution_count": null,
      "metadata": {
        "colab": {
          "base_uri": "https://localhost:8080/"
        },
        "id": "SA3TaApO8eDV",
        "outputId": "bbb47a42-5af1-4884-ca21-a9e6018bb9fd"
      },
      "outputs": [
        {
          "name": "stderr",
          "output_type": "stream",
          "text": [
            "\r[*********************100%***********************]  1 of 1 completed\n",
            "ERROR:yfinance:\n",
            "1 Failed download:\n",
            "ERROR:yfinance:['AAPL']: YFRateLimitError('Too Many Requests. Rate limited. Try after a while.')\n"
          ]
        }
      ],
      "source": [
        "import yfinance as yf\n",
        "import pandas as pd\n",
        "import numpy as np\n",
        "from sklearn.preprocessing import MinMaxScaler, StandardScaler\n",
        "from sklearn.model_selection import train_test_split\n",
        "import matplotlib.pyplot as plt\n",
        "from sklearn.linear_model import LinearRegression\n",
        "\n",
        "# Step 1: Fetch Stock Data from Yahoo Finance\n",
        "ticker = 'AAPL'  # Example: Apple stock, you can change this to any stock ticker symbol\n",
        "start_date = '2020-01-01'  # Start date for the time series data\n",
        "end_date = '2025-01-01'    # End date for the time series data\n",
        "\n",
        "data = yf.download(ticker, start=start_date, end=end_date)\n",
        "\n",
        "# Step 2: Feature Engineering (Creating new features like moving averages and returns)\n",
        "data['7_day_MA'] = data['Close'].rolling(window=7).mean()  # 7-day moving average\n",
        "data['30_day_MA'] = data['Close'].rolling(window=30).mean()  # 30-day moving average\n",
        "data['Daily_Return'] = data['Close'].pct_change()  # Daily returns (percentage change)\n",
        "\n",
        "# Step 3: Drop missing values generated by moving averages and returns\n",
        "data.dropna(inplace=True)\n",
        "\n",
        "# Step 4: Select features and target variable\n",
        "features = ['Open', 'High', 'Low', 'Close', 'Volume', '7_day_MA', '30_day_MA', 'Daily_Return']\n",
        "target = 'Close'  # Predicting the closing price\n",
        "\n",
        "# Extract feature set (X) and target (y)\n",
        "X = data[features]\n",
        "y = data[target]\n",
        "\n",
        "# Step 5: Feature Scaling using MinMaxScaler (or StandardScaler)\n",
        "scaler = MinMaxScaler()  # Normalize\n"
      ]
    },
    {
      "cell_type": "markdown",
      "metadata": {
        "id": "gwSE3FNu8m4s"
      },
      "source": [
        "Train-Test Split"
      ]
    },
    {
      "cell_type": "code",
      "execution_count": null,
      "metadata": {
        "colab": {
          "base_uri": "https://localhost:8080/"
        },
        "id": "Ou2aA66r8n_V",
        "outputId": "4f8378d9-2562-4b2d-8984-c529ce9fd9d0"
      },
      "outputs": [
        {
          "name": "stderr",
          "output_type": "stream",
          "text": [
            "\r[*********************100%***********************]  1 of 1 completed\n",
            "ERROR:yfinance:\n",
            "1 Failed download:\n",
            "ERROR:yfinance:['AAPL']: YFRateLimitError('Too Many Requests. Rate limited. Try after a while.')\n"
          ]
        },
        {
          "name": "stdout",
          "output_type": "stream",
          "text": [
            "Total samples: 0\n",
            "Training samples: 0\n",
            "Testing samples: 0\n",
            "\n",
            "Train data preview:\n",
            "Empty DataFrame\n",
            "Columns: [(Open, AAPL), (High, AAPL), (Low, AAPL), (Close, AAPL), (Volume, AAPL)]\n",
            "Index: []\n",
            "\n",
            "Test data preview:\n",
            "Empty DataFrame\n",
            "Columns: [(Open, AAPL), (High, AAPL), (Low, AAPL), (Close, AAPL), (Volume, AAPL)]\n",
            "Index: []\n"
          ]
        }
      ],
      "source": [
        "import pandas as pd\n",
        "import yfinance as yf\n",
        "\n",
        "# Load historical stock data (you can change the ticker)\n",
        "stock_ticker = 'AAPL'\n",
        "data = yf.download(stock_ticker, start='2015-01-01', end='2024-12-31')\n",
        "\n",
        "# Optional: keep only relevant features\n",
        "features = ['Open', 'High', 'Low', 'Close', 'Volume']\n",
        "data = data[features]\n",
        "\n",
        "# Drop rows with missing values (if any)\n",
        "data.dropna(inplace=True)\n",
        "\n",
        "# Define train-test split size (e.g., 80% train, 20% test)\n",
        "train_size = int(len(data) * 0.8)\n",
        "\n",
        "# Split the data chronologically\n",
        "train_data = data[:train_size]\n",
        "test_data = data[train_size:]\n",
        "\n",
        "# Print info\n",
        "print(\"Total samples:\", len(data))\n",
        "print(\"Training samples:\", len(train_data))\n",
        "print(\"Testing samples:\", len(test_data))\n",
        "print(\"\\nTrain data preview:\")\n",
        "print(train_data.tail())\n",
        "print(\"\\nTest data preview:\")\n",
        "print(test_data.head())"
      ]
    },
    {
      "cell_type": "markdown",
      "metadata": {
        "id": "uAnLKOhm8v-9"
      },
      "source": [
        "Model Building"
      ]
    },
    {
      "cell_type": "code",
      "execution_count": null,
      "metadata": {
        "colab": {
          "base_uri": "https://localhost:8080/",
          "height": 676
        },
        "id": "2cpX6_oX8wri",
        "outputId": "adbc35a4-a5e7-457a-aeb0-b9c5b04795dd"
      },
      "outputs": [
        {
          "name": "stderr",
          "output_type": "stream",
          "text": [
            "\r[*********************100%***********************]  1 of 1 completed\n",
            "ERROR:yfinance:\n",
            "1 Failed download:\n",
            "ERROR:yfinance:['AAPL']: YFRateLimitError('Too Many Requests. Rate limited. Try after a while.')\n"
          ]
        },
        {
          "data": {
            "image/png": "[encoded data removed]",
            "text/plain": [
              "<Figure size 1000x600 with 1 Axes>"
            ]
          },
          "metadata": {},
          "output_type": "display_data"
        }
      ],
      "source": [
        "import yfinance as yf\n",
        "import matplotlib.pyplot as plt\n",
        "\n",
        "# Step 1: Load stock data\n",
        "ticker = 'AAPL'\n",
        "start = '2020-01-01'\n",
        "end = '2025-01-01'\n",
        "df = yf.download(ticker, start=start, end=end)\n",
        "\n",
        "# Step 2: Use only 'Close' price\n",
        "df = df[['Close']].copy()\n",
        "\n",
        "# Step 3: Create prediction using 5-day moving average\n",
        "df['Predicted'] = df['Close'].rolling(window=5).mean()\n",
        "\n",
        "# Step 4: Drop NaN rows (first 4 will be NaN due to rolling)\n",
        "df.dropna(inplace=True)\n",
        "\n",
        "# Step 5: Plot actual vs predicted (no model.fit used)\n",
        "plt.figure(figsize=(10, 6))\n",
        "plt.plot(df['Close'], label='Actual Price', color='blue')\n",
        "plt.plot(df['Predicted'], label='5-Day Moving Avg Prediction', color='orange')\n",
        "plt.title(f'{ticker} Stock Price Prediction using Moving Average')\n",
        "plt.xlabel('Date')\n",
        "plt.ylabel('Price')\n",
        "plt.legend()\n",
        "plt.grid(True)\n",
        "plt.tight_layout()\n",
        "plt.show()\n"
      ]
    },
    {
      "cell_type": "markdown",
      "metadata": {
        "id": "TETiHCRR83VM"
      },
      "source": [
        "Evaluation"
      ]
    },
    {
      "cell_type": "code",
      "execution_count": null,
      "metadata": {
        "id": "Y2v1HH9F865G"
      },
      "outputs": [],
      "source": [
        "from sklearn.metrics import mean_absolute_error, mean_squared_error, r2_score\n",
        "import numpy as np\n",
        "\n",
        "# Assume these are available from your model\n",
        "# Replace with your actual prediction and test values\n",
        "# y_test: actual values\n",
        "# y_pred: predicted values\n",
        "\n",
        "# Example dummy values (replace with real ones)\n",
        "# y_test = np.array([...])\n",
        "# y_pred = np.array([...])\n",
        "\n",
        "# --- Evaluation Metrics ---\n",
        "def evaluate_model(y_test, y_pred):\n",
        "    mae = mean_absolute_error(y_test, y_pred)\n",
        "    mse = mean_squared_error(y_test, y_pred)\n",
        "    rmse = np.sqrt(mse)\n",
        "    r2 = r2_score(y_test, y_pred)\n",
        "\n",
        "    print(\"📊 Model Evaluation Results:\")\n",
        "    print(f\"✅ MAE  (Mean Absolute Error):      {mae:.4f}\")\n",
        "    print(f\"✅ MSE  (Mean Squared Error):       {mse:.4f}\")\n",
        "    print(f\"✅ RMSE (Root Mean Squared Error):  {rmse:.4f}\")\n",
        "    print(f\"✅ R² Score:                        {r2:.4f}\")\n",
        "\n",
        "# Example usage\n",
        "# evaluate_model(y_test, y_pred)\n"
      ]
    },
    {
      "cell_type": "markdown",
      "metadata": {
        "id": "aRM__5Y89Ff2"
      },
      "source": [
        "Make Predictions from New Input"
      ]
    },
    {
      "cell_type": "code",
      "execution_count": null,
      "metadata": {
        "colab": {
          "base_uri": "https://localhost:8080/"
        },
        "id": "hLvqcm1S9Gyf",
        "outputId": "7bf5b0ad-40f9-4fcb-fd8b-2797195bb9eb"
      },
      "outputs": [
        {
          "name": "stdout",
          "output_type": "stream",
          "text": [
            "Please input the last 5 stock prices:\n",
            "Day 1 closing price: 33\n",
            "Day 2 closing price: 45\n",
            "Day 3 closing price: 67\n",
            "Day 4 closing price: 54\n",
            "Day 5 closing price: 23\n",
            "\n",
            "Predicted next day's stock price using Moving Average: 44.40\n"
          ]
        }
      ],
      "source": [
        "import numpy as np\n",
        "\n",
        "# Step 1: Input the last 5 stock prices from the user\n",
        "user_input = []\n",
        "print(\"Please input the last 5 stock prices:\")\n",
        "\n",
        "for i in range(5):\n",
        "    price = float(input(f\"Day {i+1} closing price: \"))  # Take user input for each day's closing price\n",
        "    user_input.append(price)\n",
        "\n",
        "# Step 2: Calculate the Moving Average of the last 5 stock prices\n",
        "moving_average = np.mean(user_input)\n",
        "\n",
        "# Step 3: Predict the next day's stock price using the Moving Average\n",
        "predicted_price = moving_average\n",
        "\n",
        "# Step 4: Output the predicted price\n",
        "print(f\"\\nPredicted next day's stock price using Moving Average: {predicted_price:.2f}\")\n"
      ]
    },
    {
      "cell_type": "markdown",
      "metadata": {
        "id": "pTcBFd1N9Pbg"
      },
      "source": [
        "Convert to DataFrame and Encode"
      ]
    },
    {
      "cell_type": "code",
      "execution_count": null,
      "metadata": {
        "colab": {
          "base_uri": "https://localhost:8080/"
        },
        "id": "RVwOP5QI9VAP",
        "outputId": "3eeff304-ea5b-42ff-8908-722e23b895ff"
      },
      "outputs": [
        {
          "name": "stderr",
          "output_type": "stream",
          "text": [
            "\r[*********************100%***********************]  1 of 1 completed\n",
            "ERROR:yfinance:\n",
            "1 Failed download:\n",
            "ERROR:yfinance:['AAPL']: YFRateLimitError('Too Many Requests. Rate limited. Try after a while.')\n"
          ]
        },
        {
          "name": "stdout",
          "output_type": "stream",
          "text": [
            "\n",
            "Stock Data as DataFrame:\n",
            "Empty DataFrame\n",
            "Columns: [(Close, AAPL)]\n",
            "Index: []\n",
            "\n",
            "Normalized Stock Data:\n",
            "Empty DataFrame\n",
            "Columns: [(Close, AAPL), (Normalized_Close, )]\n",
            "Index: []\n"
          ]
        }
      ],
      "source": [
        "import yfinance as yf\n",
        "import pandas as pd\n",
        "\n",
        "# Step 1: Download stock data (e.g., Apple stock data from Yahoo Finance)\n",
        "ticker = 'AAPL'  # You can change this to any stock symbol (e.g., 'GOOGL', 'TSLA')\n",
        "start = '2020-01-01'\n",
        "end = '2025-01-01'\n",
        "df = yf.download(ticker, start=start, end=end)\n",
        "\n",
        "# Step 2: Convert the stock data to a pandas DataFrame\n",
        "df = df[['Close']]  # Use only 'Close' price for prediction\n",
        "\n",
        "# Display the first 5 rows to show the DataFrame\n",
        "print(\"\\nStock Data as DataFrame:\")\n",
        "print(df.head())\n",
        "\n",
        "# Step 3: Normalize the stock prices using min-max normalization\n",
        "min_price = df['Close'].min()  # Minimum closing price\n",
        "max_price = df['Close'].max()  # Maximum closing price\n",
        "\n",
        "# Apply the min-max normalization formula\n",
        "df['Normalized_Close'] = (df['Close'] - min_price) / (max_price - min_price)\n",
        "\n",
        "# Display the normalized data\n",
        "print(\"\\nNormalized Stock Data:\")\n",
        "print(df.head())\n",
        "\n",
        "# Now the DataFrame contains the original 'Close' prices and the 'Normalized_Close' prices.\n"
      ]
    },
    {
      "cell_type": "markdown",
      "metadata": {
        "id": "RWMcmxUV9cXN"
      },
      "source": [
        "Predict the Final Grade"
      ]
    },
    {
      "cell_type": "code",
      "execution_count": null,
      "metadata": {
        "colab": {
          "base_uri": "https://localhost:8080/"
        },
        "id": "V_yQ5tmp9kyf",
        "outputId": "c6bf3d45-4585-4d83-9ec7-8888e3fe1638"
      },
      "outputs": [
        {
          "name": "stdout",
          "output_type": "stream",
          "text": [
            "Predicted final stock price (like final grade): 158.60\n"
          ]
        }
      ],
      "source": [
        "from sklearn.linear_model import LinearRegression\n",
        "import numpy as np\n",
        "\n",
        "# Step 1: Sample data — last 5 days of stock prices (can be hardcoded or entered by user)\n",
        "# You can change these values or ask user input\n",
        "last_prices = [150, 152, 153.5, 155, 157]  # Simulated \"test scores\" leading to final grade\n",
        "\n",
        "# Step 2: Prepare data for model\n",
        "# X = day indices (0 to len-1), y = stock prices\n",
        "X = np.array(range(len(last_prices))).reshape(-1, 1)\n",
        "y = np.array(last_prices)\n",
        "\n",
        "# Step 3: Train a simple Linear Regression model\n",
        "model = LinearRegression()\n",
        "model.fit(X, y)\n",
        "\n",
        "# Step 4: Predict the \"final grade\" — i.e., the next day's stock price\n",
        "next_day_index = len(last_prices)  # Predict for the next day\n",
        "predicted_price = model.predict([[next_day_index]])\n",
        "\n",
        "# Step 5: Show result\n",
        "print(f\"Predicted final stock price (like final grade): {predicted_price[0]:.2f}\")\n"
      ]
    },
    {
      "cell_type": "markdown",
      "metadata": {
        "id": "Ho8CkAKM9sOt"
      },
      "source": [
        "Deployment-Building an Interactive App"
      ]
    },
    {
      "cell_type": "code",
      "execution_count": null,
      "metadata": {
        "colab": {
          "background_save": true,
          "base_uri": "https://localhost:8080/"
        },
        "id": "77wm22W5-yEz",
        "outputId": "e3573bd9-1a40-4715-87e9-3f6cf1f0ca12"
      },
      "outputs": [
        {
          "name": "stdout",
          "output_type": "stream",
          "text": [
            " * Serving Flask app '__main__'\n",
            " * Debug mode: on\n"
          ]
        },
        {
          "name": "stderr",
          "output_type": "stream",
          "text": [
            "INFO:werkzeug:\u001b[31m\u001b[1mWARNING: This is a development server. Do not use it in a production deployment. Use a production WSGI server instead.\u001b[0m\n",
            " * Running on http://127.0.0.1:5000\n",
            "INFO:werkzeug:\u001b[33mPress CTRL+C to quit\u001b[0m\n",
            "INFO:werkzeug: * Restarting with stat\n"
          ]
        }
      ],
      "source": [
        "from flask import Flask, render_template, request\n",
        "import numpy as np\n",
        "from sklearn.linear_model import LinearRegression\n",
        "\n",
        "app = Flask(__name__)\n",
        "\n",
        "# Step 1: Create the home route to render the HTML form\n",
        "@app.route('/')\n",
        "def home():\n",
        "    return render_template('index.html')  # Render the HTML page\n",
        "\n",
        "# Step 2: Create the predict route to handle the form submission\n",
        "@app.route('/predict', methods=['POST'])\n",
        "def predict():\n",
        "    try:\n",
        "        # Step 3: Get the user input (last 5 stock prices)\n",
        "        prices = [float(request.form[f'price{i}']) for i in range(1, 6)]\n",
        "\n",
        "        if len(prices) != 5 or any(price <= 0 for price in prices):\n",
        "            raise ValueError(\"Invalid input, please enter positive numbers\")\n",
        "\n",
        "        # Step 4: Prepare data for Linear Regression model\n",
        "        X = np.array(range(len(prices))).reshape(-1, 1)  # Day indices (0, 1, 2, 3, 4)\n",
        "        y = np.array(prices)\n",
        "\n",
        "        # Step 5: Train the model\n",
        "        model = LinearRegression()\n",
        "        model.fit(X, y)\n",
        "\n",
        "        # Step 6: Predict the next day's price\n",
        "        next_day = np.array([[len(prices)]])  # Predict for the next day (day 5)\n",
        "        predicted_price = model.predict(next_day)[0]\n",
        "\n",
        "        # Step 7: Render the result on the webpage\n",
        "        return render_template('index.html', prediction_text=f\"Predicted Next Day Price: ${predicted_price:.2f}\")\n",
        "\n",
        "    except Exception as e:\n",
        "        return render_template('index.html', error_message=str(e))\n",
        "\n",
        "if __name__ == \"__main__\":\n",
        "    app.run(debug=True)\n"
      ]
    }
  ],
  "metadata": {
    "colab": {
      "provenance": []
    },
    "kernelspec": {
      "display_name": "Python 3",
      "name": "python3"
    },
    "language_info": {
      "name": "python"
    }
  },
  "nbformat": 4,
  "nbformat_minor": 0
}